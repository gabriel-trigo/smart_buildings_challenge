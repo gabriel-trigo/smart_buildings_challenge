{
 "cells": [
  {
   "cell_type": "markdown",
   "id": "93801eb9",
   "metadata": {},
   "source": [
    "### Imports"
   ]
  },
  {
   "cell_type": "code",
   "execution_count": 1,
   "id": "f22c1f70",
   "metadata": {},
   "outputs": [],
   "source": [
    "\n",
    "import re\n",
    "import os\n",
    "import json\n",
    "import pickle\n",
    "import shutil\n",
    "import requests\n",
    "import warnings\n",
    "from collections import defaultdict\n",
    "\n",
    "\n",
    "import numpy as np\n",
    "import pandas as pd\n",
    "from sklearn.preprocessing import StandardScaler\n",
    "import xgboost as xgb\n",
    "import warnings\n",
    "from tqdm import tqdm\n",
    "import matplotlib.pyplot as plt\n",
    "from sklearn.metrics import root_mean_squared_error, mean_absolute_error\n"
   ]
  },
  {
   "cell_type": "markdown",
   "id": "1bdb5f8e",
   "metadata": {},
   "source": [
    "### Starter code"
   ]
  },
  {
   "cell_type": "code",
   "execution_count": 2,
   "id": "f8261a03",
   "metadata": {},
   "outputs": [],
   "source": [
    "class SmartBuildingsDataset:\n",
    " \"\"\"Smart Buildings Dataset implementation, including loading and downloading.\"\"\"\n",
    "\n",
    "\n",
    " def __init__(self, download=True):\n",
    "   self.partitions = {\n",
    "       \"sb1\": [\n",
    "           \"2022_a\",\n",
    "           \"2022_b\",\n",
    "           \"2023_a\",\n",
    "           \"2023_b\",\n",
    "           \"2024_a\",\n",
    "       ],\n",
    "   }\n",
    "   if download:\n",
    "     self.download()\n",
    "\n",
    "\n",
    " def download(self):\n",
    "   \"\"\"Downloads the Smart Buildings Dataset from Google Cloud Storage.\"\"\"\n",
    "   print(\"Downloading data...\")\n",
    "\n",
    "\n",
    "   def download_file(url):\n",
    "     local_filename = url.split(\"/\")[-1]\n",
    "     with requests.get(url, stream=True) as r:\n",
    "       r.raise_for_status()\n",
    "       with open(local_filename, \"wb\") as f:\n",
    "         for chunk in r.iter_content(chunk_size=8192):\n",
    "           f.write(chunk)\n",
    "     return local_filename\n",
    "\n",
    "\n",
    "   url = \"https://storage.googleapis.com/gresearch/smart_buildings_dataset/tabular_data/sb1.zip\"\n",
    "   download_file(url)\n",
    "   shutil.unpack_archive(\"sb1.zip\", \"sb1/\")\n",
    "\n",
    "\n",
    " def get_floorplan(self, building):\n",
    "   \"\"\"Gets the floorplan and device layout map for a specific building.\n",
    "\n",
    "\n",
    "   Args:\n",
    "     building: The name of the building.\n",
    "\n",
    "\n",
    "   Returns:\n",
    "     A tuple containing the floorplan and device layout map.\n",
    "   \"\"\"\n",
    "   if building not in self.partitions.keys():\n",
    "     raise ValueError(\"invalid building\")\n",
    "   floorplan = np.load(f\"./{building}/tabular/floorplan.npy\")\n",
    "   with open(f\"./{building}/tabular/device_layout_map.json\") as json_file:\n",
    "     device_layout_map = json.load(json_file)\n",
    "   return floorplan, device_layout_map\n",
    "\n",
    "\n",
    " def get_building_data(self, building, partition):\n",
    "   \"\"\"Gets the data for a specific building and partition.\n",
    "\n",
    "\n",
    "   Args:\n",
    "     building: The name of the building.\n",
    "     partition: The name of the partition.\n",
    "\n",
    "\n",
    "   Returns:\n",
    "     A tuple containing the data and metadata.\n",
    "   \"\"\"\n",
    "   if building not in self.partitions.keys():\n",
    "     raise ValueError(\"invalid building\")\n",
    "   if partition not in self.partitions[building]:\n",
    "     raise ValueError(\"invalid partition\")\n",
    "   path = f\"./{building}/tabular/{building}/{partition}/\"\n",
    "\n",
    "\n",
    "   data = np.load(path + \"data.npy.npz\")\n",
    "   metadata = pickle.load(open(path + \"metadata.pickle\", \"rb\"))\n",
    "\n",
    "\n",
    "   if \"device_infos\" not in metadata.keys():\n",
    "     metadata[\"device_infos\"] = pickle.load(\n",
    "         open(f\"./{building}/tabular/device_info_dicts.pickle\", \"rb\")\n",
    "     )\n",
    "   if \"zone_infos\" not in metadata.keys():\n",
    "     metadata[\"zone_infos\"] = pickle.load(\n",
    "         open(f\"./{building}/tabular/zone_info_dicts.pickle\", \"rb\")\n",
    "     )\n",
    "   return data, metadata\n"
   ]
  },
  {
   "cell_type": "code",
   "execution_count": 3,
   "id": "b6e0b930",
   "metadata": {},
   "outputs": [
    {
     "name": "stdout",
     "output_type": "stream",
     "text": [
      "Downloading data...\n",
      "51852\n"
     ]
    }
   ],
   "source": [
    "ds = SmartBuildingsDataset()\n",
    "\n",
    "# training data: Jan-June 2022\n",
    "data, metadata = ds.get_building_data(\"sb1\",\"2022_a\")\n",
    "floorplan, device_layout_map = ds.get_floorplan(\"sb1\")\n",
    "\n",
    "# validation data: July-December 2022\n",
    "data_val, metadata_val = ds.get_building_data(\"sb1\",\"2022_b\")\n",
    "floorplan_val, device_layout_map_val = ds.get_floorplan(\"sb1\")\n",
    "\n",
    "# lets split validation data into things to predict, and exogenous variables\n",
    "indexes = [v for k, v in metadata_val['observation_ids'].items() if \"zone_air_temperature_sensor\" in k]\n",
    "temp_data = data_val['observation_value_matrix'][:, indexes]\n",
    "matching_items = [(k, v) for k, v in metadata_val['observation_ids'].items() if \"zone_air_temperature_sensor\" in k]\n",
    "temp_data_ids = {k: i for i, (k, v) in enumerate(matching_items)}\n",
    "\n",
    "indexes = [v for k, v in metadata_val['observation_ids'].items() if \"zone_air_temperature_sensor\" not in k]\n",
    "exogenous_observation_data = data_val['observation_value_matrix'][:, indexes]\n",
    "matching_items = [(k, v) for k, v in metadata_val['observation_ids'].items() if \"zone_air_temperature_sensor\" not in k]\n",
    "exogenous_observation_data_ids = {k: i for i, (k, v) in enumerate(matching_items)}\n",
    "\n",
    "initial_condition = temp_data[0]\n",
    "print(len(data[\"observation_value_matrix\"]))"
   ]
  },
  {
   "cell_type": "code",
   "execution_count": 4,
   "id": "e578b61c",
   "metadata": {},
   "outputs": [],
   "source": [
    "data2 = dict(data)\n",
    "metadata2 = dict(metadata)\n",
    "\n",
    "data2[\"observation_value_matrix\"] = np.concatenate(\n",
    "     [data[\"observation_value_matrix\"], data_val[\"observation_value_matrix\"]], axis=0\n",
    " )\n",
    "data2[\"action_value_matrix\"] = np.concatenate(\n",
    "     [data[\"action_value_matrix\"], data_val[\"action_value_matrix\"]], axis=0\n",
    " )\n",
    "metadata2[\"observation_timestamps\"] = np.concatenate(\n",
    "     [metadata[\"observation_timestamps\"], metadata_val[\"observation_timestamps\"]], axis=0\n",
    " )\n",
    "metadata2[\"action_timestamps\"] = np.concatenate(\n",
    "     [metadata[\"action_timestamps\"], metadata_val[\"action_timestamps\"]], axis=0\n",
    " )\n",
    "\n",
    "data, metadata = data2, metadata2\n",
    "data, metadata = dict(data), dict(metadata)"
   ]
  },
  {
   "cell_type": "code",
   "execution_count": 5,
   "id": "c5076f73",
   "metadata": {},
   "outputs": [],
   "source": [
    "# Train data:\n",
    "# data['observation_value_matrix']\n",
    "# data['action_value_matrix']\n",
    "# metadata[\"observation_ids\"]\n",
    "# metadata[\"action_ids\"]\n",
    "# metadata[\"observation_timestamps\"]\n",
    "# floorplan\n",
    "# device_layout_map\n",
    "\n",
    "\n",
    "# Validation data:\n",
    "# data_val['action_value_matrix']\n",
    "# metadata_val[\"action_ids\"]\n",
    "# metadata_val[\"observation_timestamps\"]\n",
    "# floorplan\n",
    "# device_layout_map\n",
    "\n",
    "# exogenous_observation_data\n",
    "# exogenous_observation_data_ids\n",
    "# initial_condition\n",
    "\n",
    "# Predict:\n",
    "# temp_data\n",
    "# temp_data_ids"
   ]
  },
  {
   "cell_type": "markdown",
   "id": "b8de6600",
   "metadata": {},
   "source": [
    "### Prepare data"
   ]
  },
  {
   "cell_type": "markdown",
   "id": "4801e9eb",
   "metadata": {},
   "source": [
    "In the original dataset, the timestamps for `reward`and `reward_info` begin (and end) one timestep earlier than the timestamps for `observation` and `action`. Let's align these for convenience."
   ]
  },
  {
   "cell_type": "code",
   "execution_count": 6,
   "id": "7eeece65",
   "metadata": {},
   "outputs": [],
   "source": [
    "data, metadata = dict(data), dict(metadata) # convert to dicts for convenience\n",
    "\n",
    "# these start one step earlier, so we need to remove the first one\n",
    "data[\"reward_value_matrix\"] = data[\"reward_value_matrix\"][1:]\n",
    "data[\"reward_info_value_matrix\"] = data[\"reward_info_value_matrix\"][1:]\n",
    "metadata[\"reward_timestamps\"] = metadata[\"reward_timestamps\"][1:]\n",
    "metadata[\"reward_info_timestamps\"] = metadata[\"reward_info_timestamps\"][1:]\n",
    "\n",
    "# these end one step later, so we need to remove the last one\n",
    "data[\"observation_value_matrix\"] = data[\"observation_value_matrix\"][:-1]\n",
    "data[\"action_value_matrix\"] = data[\"action_value_matrix\"][:-1]\n",
    "metadata[\"observation_timestamps\"] = metadata[\"observation_timestamps\"][:-1]\n",
    "metadata[\"action_timestamps\"] = metadata[\"action_timestamps\"][:-1]"
   ]
  },
  {
   "cell_type": "markdown",
   "id": "ab44fda9",
   "metadata": {},
   "source": [
    "Let's create a dataframe to manipulate the data. We will include the data from `observation` and `action`. We disregard the reward data because intuitively, I imagine that is more important for training some RL agent, rather than predicting the temperature.\n",
    "\n",
    "We add a `device_id` column to tag each row with the device it belongs to."
   ]
  },
  {
   "cell_type": "code",
   "execution_count": 7,
   "id": "1bd2e620",
   "metadata": {},
   "outputs": [],
   "source": [
    "df_obs_ts = pd.DataFrame(\n",
    "    data[\"observation_value_matrix\"],\n",
    "    columns=list(metadata[\"observation_ids\"].keys()),\n",
    "    index=metadata[\"observation_timestamps\"], # Use the aligned timestamps\n",
    ")\n",
    "\n",
    "df_act_ts = pd.DataFrame(\n",
    "    data[\"action_value_matrix\"],\n",
    "    columns=list(metadata[\"action_ids\"].keys()),\n",
    "    index=metadata[\"action_timestamps\"], # Use the aligned timestamps\n",
    ")\n",
    "\n",
    "df_combined_ts = pd.concat([df_obs_ts, df_act_ts], axis=1)\n",
    "df = df_combined_ts.T\n",
    "\n",
    "# add device_id column\n",
    "df[\"device_id\"] = df.index.str.split(\"@\").str[0]"
   ]
  },
  {
   "cell_type": "markdown",
   "id": "8181da37",
   "metadata": {},
   "source": [
    "Now, let's create mappings from `device_id` to `zone_id` and vice-versa.\n",
    "\n",
    "To decide which observations to use for each device, we will use the `zone_id` to which the device belongs. Create these mappings to make it easier to access the data."
   ]
  },
  {
   "cell_type": "code",
   "execution_count": 8,
   "id": "cef442c2",
   "metadata": {},
   "outputs": [],
   "source": [
    "warnings.filterwarnings('ignore', category=pd.errors.PerformanceWarning)\n",
    "\n",
    "zone_infos = { el[\"zone_id\"]: el for el in metadata[\"zone_infos\"] }\n",
    "\n",
    "# device_to_zones\n",
    "device_to_zones = defaultdict(lambda: [])\n",
    "for zone_id, zone_info in zone_infos.items():\n",
    "    for device_id in zone_info[\"devices\"]:\n",
    "        device_to_zones[device_id].append(zone_id)\n",
    "        \n",
    "zone_to_devices = defaultdict(lambda: [])\n",
    "for zone_id, zone_info in zone_infos.items():\n",
    "    for device_id in zone_info[\"devices\"]:\n",
    "        zone_to_devices[zone_id].append(device_id)\n",
    "        \n",
    "# add mapping information to dataframe\n",
    "for zone_id, zone_info in zone_infos.items():\n",
    "    df[zone_id] = df[\"device_id\"].apply(lambda x: zone_id in device_to_zones[x])"
   ]
  },
  {
   "cell_type": "markdown",
   "id": "4b4951f0",
   "metadata": {},
   "source": [
    "Now, let's also get all the devices which have `zone_air_temperature_sensor` data. These are the values that we are trying to predict."
   ]
  },
  {
   "cell_type": "code",
   "execution_count": 9,
   "id": "da1be986",
   "metadata": {},
   "outputs": [],
   "source": [
    "# get all devices with temperature measurements\n",
    "devices_with_temp = [k.split('@')[0] for k, v in metadata[\"observation_ids\"].items() if \"zone_air_temperature_sensor\" in k]"
   ]
  },
  {
   "cell_type": "markdown",
   "id": "5643395c",
   "metadata": {},
   "source": [
    "### Feature selection logic\n",
    "\n",
    "The idea we will use is the following:\n",
    "1. We will try to predict the temperature of each sensor individually.\n",
    "2. For each device, we will use the `device_info` data to get all the `zone_id`'s that are associated with each device.\n",
    "3. Then, we will get all the observations and actions for devices that are associated with any of the `zone_id`'s above.\n",
    "4. We will use these observations and actions as features to predict the temperature of this sensor.\n",
    "\n",
    "Basically, the logic here is: devices that are associated with the same zones should influence each other. So using the observations and actions of these devices hopefully will be predictive of the temperature of the sensor we are trying to predict.\n",
    "\n",
    "For each sensor, we will make a personalized dataframe with the measurements which will be used to train this sensor's model. The function below implements this logic."
   ]
  },
  {
   "cell_type": "code",
   "execution_count": 10,
   "id": "ebb9e327",
   "metadata": {},
   "outputs": [],
   "source": [
    "def get_filtered_df_for_device(df, device_id):\n",
    "    zones_ids = device_to_zones[device_id]\n",
    "    \n",
    "    is_timestamp_col = [isinstance(col, pd.Timestamp) for col in df.columns]\n",
    "    is_timestamp_mask = pd.Series(is_timestamp_col, index=df.columns)\n",
    "    zone_mask = df.columns.isin(zones_ids)\n",
    "    \n",
    "    rows_in_common_zones_mask = df.loc[:, zone_mask].sum(axis=1) > 0\n",
    "    \n",
    "    filtered_df = df.loc[rows_in_common_zones_mask, :]\n",
    "    \n",
    "    obs_df = filtered_df.loc[~filtered_df.index.str.contains(\"zone_air_temperature_sensor\"), is_timestamp_mask]\n",
    "    target_df = filtered_df.loc[filtered_df.index.str.contains(f\"{ device_id }@zone_air_temperature_sensor\"), is_timestamp_mask]\n",
    "\n",
    "    return obs_df, target_df"
   ]
  },
  {
   "cell_type": "markdown",
   "id": "b244a483",
   "metadata": {},
   "source": [
    "We also add features to provide information about the time of the day, day of the week, etc. This is useful because the temperature is very dependent on these, as the building behaves differently at different times of the day and week (e.g. weekdays vs weekends)."
   ]
  },
  {
   "cell_type": "code",
   "execution_count": 11,
   "id": "348ba957",
   "metadata": {},
   "outputs": [],
   "source": [
    "def add_time_features(dataframe):\n",
    "    \"\"\"Adds time features to the dataframe. Index should be timestamps.\"\"\"\n",
    "    copy_df = dataframe.copy()\n",
    "    copy_df.index = pd.to_datetime(copy_df.index, errors='raise')\n",
    "    copy_df['time_year'] = copy_df.index.year\n",
    "    copy_df['time_month'] = copy_df.index.month\n",
    "    copy_df['time_day'] = copy_df.index.day\n",
    "    copy_df['time_hour'] = copy_df.index.hour\n",
    "    copy_df['time_minute'] = copy_df.index.minute\n",
    "\n",
    "    return copy_df"
   ]
  },
  {
   "cell_type": "markdown",
   "id": "d882190c",
   "metadata": {},
   "source": [
    "#### Training helper functions"
   ]
  },
  {
   "cell_type": "code",
   "execution_count": 12,
   "id": "a4b8e1ec",
   "metadata": {},
   "outputs": [],
   "source": [
    "def save_results(timestamps, device_id, rmse_xgb, mae_xgb, rmse_mean, mae_mean, y_val, y_pred_xgb, output_dir):\n",
    "    \"\"\"\n",
    "    Saves model performance metrics to JSON and generates two plots:\n",
    "    1. A scatter plot of actual vs. predicted values.\n",
    "    2. A time-series line plot of actual and predicted values using provided timestamps.\n",
    "\n",
    "    Args:\n",
    "        timestamps (array-like): The timestamps corresponding to the validation data points for the x-axis.\n",
    "        device_id (str or int): Identifier for the device/model.\n",
    "        rmse_xgb (float): Root Mean Squared Error for the XGBoost model.\n",
    "        mae_xgb (float): Mean Absolute Error for the XGBoost model.\n",
    "        rmse_mean (float): Root Mean Squared Error for the baseline mean model.\n",
    "        mae_mean (float): Mean Absolute Error for the baseline mean model.\n",
    "        y_val (np.ndarray): True target values for the validation set.\n",
    "        y_pred_xgb (np.ndarray): Predicted target values from the XGBoost model.\n",
    "        output_dir (str): The base directory where results should be saved.\n",
    "    \"\"\"\n",
    "    # Create device-specific directory\n",
    "    device_output_dir = os.path.join(output_dir, f\"device_{device_id}\")\n",
    "    os.makedirs(device_output_dir, exist_ok=True) # Create directory if it doesn't exist\n",
    "\n",
    "    # --- 1. Save Metrics to JSON ---\n",
    "    results_data = {\n",
    "        'device_id': device_id,\n",
    "        'performance_metrics': {\n",
    "            'xgboost': {\n",
    "                'rmse': rmse_xgb,\n",
    "                'mae': mae_xgb\n",
    "            },\n",
    "            'baseline_mean': {\n",
    "                'rmse': rmse_mean,\n",
    "                'mae': mae_mean\n",
    "            }\n",
    "        },\n",
    "        'validation_set_size': len(y_val)\n",
    "    }\n",
    "\n",
    "    json_filepath = os.path.join(device_output_dir, 'results.json')\n",
    "    try:\n",
    "        with open(json_filepath, 'w') as f:\n",
    "            json.dump(results_data, f, indent=4)\n",
    "        print(f\"Device {device_id}: Saved results to {json_filepath}\")\n",
    "    except Exception as e:\n",
    "        print(f\"Device {device_id}: Error saving JSON results: {e}\")\n",
    "\n",
    "\n",
    "    # --- 2. Generate and Save Scatter Plot (Actual vs. Predicted) ---\n",
    "    scatter_plot_filepath = os.path.join(device_output_dir, 'predictions_vs_actual.png')\n",
    "    try:\n",
    "        plt.figure(figsize=(8, 8))\n",
    "        plt.scatter(y_val, y_pred_xgb, alpha=0.5, label=f'XGB Predictions (RMSE: {rmse_xgb:.2f})') # Keep scatter for this plot\n",
    "        min_val = min(np.min(y_val), np.min(y_pred_xgb)) * 0.95\n",
    "        max_val = max(np.max(y_val), np.max(y_pred_xgb)) * 1.05\n",
    "        plt.plot([min_val, max_val], [min_val, max_val], 'r--', label='Perfect Prediction') # Keep diagonal line\n",
    "        plt.title(f'Device {device_id}: Actual vs. Predicted Values')\n",
    "        plt.xlabel('Actual Values')\n",
    "        plt.ylabel('Predicted Values')\n",
    "        plt.legend()\n",
    "        plt.grid(True)\n",
    "        plt.xlim(min_val, max_val)\n",
    "        plt.ylim(min_val, max_val)\n",
    "        plt.savefig(scatter_plot_filepath)\n",
    "        plt.close() # Close the plot figure to free memory\n",
    "        print(f\"Device {device_id}: Saved scatter plot to {scatter_plot_filepath}\")\n",
    "    except Exception as e:\n",
    "        print(f\"Device {device_id}: Error saving scatter plot: {e}\")\n",
    "\n",
    "\n",
    "    # --- 3. Generate and Save Time Series Plot ---\n",
    "    # Uses provided timestamps for the x-axis.\n",
    "    timeseries_plot_filepath = os.path.join(device_output_dir, 'predictions_over_time.png')\n",
    "    try:\n",
    "        # Use the provided timestamps directly\n",
    "        time_indices = timestamps\n",
    "\n",
    "        plt.figure(figsize=(12, 6)) # Make the figure wider for time series\n",
    "\n",
    "        # Plot actual values as a navy line\n",
    "        plt.plot(time_indices, y_val, label='Actual Values', color='navy', linestyle='-', linewidth=1.5)\n",
    "\n",
    "        # Plot predicted values as a crimson line\n",
    "        plt.plot(time_indices, y_pred_xgb, label='Predicted Values', color='crimson', linestyle='-', linewidth=1.5)\n",
    "\n",
    "        plt.title(f'Device {device_id}: Actual vs. Predicted Values Over Time')\n",
    "        # Update xlabel if timestamps are actual dates/times, otherwise keep as is\n",
    "        # If timestamps are datetime objects, matplotlib will usually format them automatically.\n",
    "        plt.xlabel('Time') # Changed label to be more generic\n",
    "        plt.ylabel('Value')\n",
    "        plt.legend()\n",
    "        plt.grid(True)\n",
    "        plt.tight_layout() # Adjust layout\n",
    "        # Optional: Add automatic date formatting if timestamps are datetime objects\n",
    "        # plt.gcf().autofmt_xdate() # Uncomment if time_indices contains datetime objects\n",
    "\n",
    "        plt.savefig(timeseries_plot_filepath)\n",
    "        plt.close() # Close the plot figure to free memory\n",
    "        print(f\"Device {device_id}: Saved time series plot to {timeseries_plot_filepath}\")\n",
    "    except Exception as e:\n",
    "        print(f\"Device {device_id}: Error saving time series plot: {e}\")"
   ]
  },
  {
   "cell_type": "markdown",
   "id": "f3633971",
   "metadata": {},
   "source": [
    "### Training\n",
    "\n",
    "Now, to train the model, we will do the following:\n",
    "\n",
    "1. We will use the features that were selected according to the logic of the previous section.\n",
    "2. For each of the selected features, we will also create lagged versions of them. This is because we understand that previous observations and actions should be predictive of the current temperature.\n",
    "3. We pre-process the features using a `StandardScaler`."
   ]
  },
  {
   "cell_type": "code",
   "execution_count": 13,
   "id": "09d67282",
   "metadata": {},
   "outputs": [],
   "source": [
    "warnings.filterwarnings('ignore', category=pd.errors.PerformanceWarning)\n",
    "warnings.filterwarnings('ignore', category=UserWarning) # Suppress XGBoost warning about feature names\n",
    "\n",
    "scalers, models, processed_feature_names = {}, {}, {}\n",
    "\n",
    "def get_train_val_data_for_device(device_id, lags_exo=[1, 2, 6, 12, 24]):\n",
    "    \n",
    "    X_base, y_base = get_filtered_df_for_device(df, device_id)\n",
    "    X_base, y_base = X_base.T, y_base.T\n",
    "    X_base, y_base = add_time_features(X_base), add_time_features(y_base)\n",
    "    \n",
    "    y_series = y_base.iloc[:, 0]\n",
    "    \n",
    "    temp_df = X_base.copy()\n",
    "    temp_df[\"target\"] = y_series\n",
    "    temp_df = temp_df.apply(pd.to_numeric, errors='raise')\n",
    "\n",
    "    \n",
    "    lagged_target_cols = []\n",
    "    lagged_exo_cols = []\n",
    "    \n",
    "    \n",
    "    # add lag features\n",
    "    exo_cols_to_lag = list(X_base.columns)\n",
    "    for col in exo_cols_to_lag:\n",
    "        \n",
    "        # this should not happen, but just in case\n",
    "        if col not in temp_df.columns:\n",
    "            raise ValueError(f\"Column {col} not found in temp_df for lagging.\")\n",
    "         \n",
    "        for lag in lags_exo:\n",
    "                col_name = f'{str(col).replace(\"@\",\"_\")}_lag_{lag}' # Make lag name safe\n",
    "                temp_df[col_name] = temp_df[col].shift(lag)\n",
    "                lagged_exo_cols.append(col_name)\n",
    "                \n",
    "    \n",
    "    # filter out timestamps for which the target is 0 (missing data)\n",
    "    original_rows = len(temp_df)\n",
    "    temp_df = temp_df[temp_df['target'] != 0]\n",
    "    rows_after_filtering = len(temp_df)\n",
    "    print(f\"Filtered {original_rows - rows_after_filtering} rows for device {device_id}. {rows_after_filtering} rows remaining.\")\n",
    "    \n",
    "    # drop rows with NaN values due to lagging\n",
    "    temp_df.dropna(inplace=True)\n",
    "    \n",
    "    X = temp_df.drop(columns=[\"target\"])\n",
    "    y = temp_df[\"target\"]\n",
    "    target_col_name = f\"{ device_id }@zone_air_temperature_sensor\"\n",
    "    processed_feature_names[target_col_name] = X.columns.tolist()\n",
    "    \n",
    "    cols_to_scale = list(X_base.columns) + lagged_exo_cols + lagged_target_cols\n",
    "    scaler = StandardScaler()\n",
    "    X_scaled = X.copy()\n",
    "    X_scaled[cols_to_scale] = scaler.fit_transform(X[cols_to_scale])\n",
    "    scalers[target_col_name] = scaler\n",
    "    \n",
    "    \n",
    "    # # split into train and validation sets\n",
    "    # train_end_index = int(len(X_scaled) * 0.7) # 70% train\n",
    "\n",
    "    # X_train, X_val = X_scaled[:train_end_index], X_scaled[train_end_index:]\n",
    "    # y_train, y_val = y[:train_end_index], y[train_end_index:]\n",
    "    \n",
    "    split_timestamp = pd.Timestamp('2022-07-01 00:00:00+0000', tz='UTC')\n",
    "\n",
    "    # Create boolean masks for train and validation sets based on the index\n",
    "    # Ensure X_scaled.index is a DatetimeIndex before this step\n",
    "    train_mask = X_scaled.index < split_timestamp\n",
    "    val_mask = X_scaled.index >= split_timestamp\n",
    "\n",
    "    # Apply the masks to split the data using .loc\n",
    "    X_train, X_val = X_scaled.loc[train_mask], X_scaled.loc[val_mask]\n",
    "    y_train, y_val = y.loc[train_mask], y.loc[val_mask] # Assumes y shares the same DatetimeIndex as X_scaled\n",
    "    # -------- END OF LINES TO ADD --------\n",
    "    \n",
    "    print(f\"Device {device_id}: Train set size: {len(X_train)}, Validation set size: {len(X_val)}\")\n",
    "    \n",
    "    return X_train, y_train, X_val, y_val"
   ]
  },
  {
   "cell_type": "markdown",
   "id": "8583b376",
   "metadata": {},
   "source": [
    "To train the model, we use a `XGBoost regressor`. I haven't done any experimentation with other models/hyperperameters due to time constraints, so hopefully this is a good starting point."
   ]
  },
  {
   "cell_type": "code",
   "execution_count": 14,
   "id": "25c67567",
   "metadata": {},
   "outputs": [],
   "source": [
    "def train_and_eval(X_train, y_train, X_val, y_val, device_id):\n",
    "    \"\"\"\n",
    "    Train and evaluate the model.\n",
    "    \"\"\"\n",
    "    \n",
    "    model = xgb.XGBRegressor(\n",
    "        objective='reg:squarederror',\n",
    "        n_estimators=300,          # Potentially more estimators needed with more features\n",
    "        learning_rate=0.05,\n",
    "        max_depth=7,\n",
    "        subsample=0.8,\n",
    "        colsample_bytree=0.8,      # Consider slightly lower if many features added\n",
    "        random_state=42,\n",
    "        n_jobs=-1,\n",
    "        early_stopping_rounds=30   # Potentially longer patience\n",
    "    )\n",
    "    \n",
    "    \n",
    "    model.fit(\n",
    "        X_train, y_train,\n",
    "        eval_set=[(X_val, y_val)],\n",
    "        verbose=False\n",
    "    )\n",
    "\n",
    "\n",
    "    y_pred_xgb = model.predict(X_val)\n",
    "    rmse_xgb = root_mean_squared_error(y_val, y_pred_xgb) # Use RMSE directly\n",
    "    mae_xgb = mean_absolute_error(y_val, y_pred_xgb)\n",
    "    \n",
    "    \n",
    "    mean_train_value = y_train.mean()\n",
    "    y_pred_mean = np.full_like(y_val, fill_value=mean_train_value)\n",
    "    rmse_mean = root_mean_squared_error(y_val, y_pred_mean)\n",
    "    mae_mean = mean_absolute_error(y_val, y_pred_mean)\n",
    "    \n",
    "    models[device_id] = model\n",
    "    \n",
    "    save_results(list(X_val.index), device_id, rmse_xgb, mae_xgb, rmse_mean, mae_mean, y_val, y_pred_xgb, \"results_fr\")\n",
    "    \n",
    "    return"
   ]
  },
  {
   "cell_type": "markdown",
   "id": "50c1b3b2",
   "metadata": {},
   "source": [
    "Now, let's actually train the models."
   ]
  },
  {
   "cell_type": "code",
   "execution_count": 15,
   "id": "673db357",
   "metadata": {},
   "outputs": [
    {
     "name": "stderr",
     "output_type": "stream",
     "text": [
      "  0%|          | 0/123 [00:00<?, ?it/s]"
     ]
    },
    {
     "name": "stdout",
     "output_type": "stream",
     "text": [
      "Filtered 20739 rows for device 2760348383893915. 84404 rows remaining.\n",
      "Device 2760348383893915: Train set size: 36642, Validation set size: 47738\n",
      "Device 2760348383893915: Saved results to results_fr/device_2760348383893915/results.json\n",
      "Device 2760348383893915: Saved scatter plot to results_fr/device_2760348383893915/predictions_vs_actual.png\n"
     ]
    },
    {
     "name": "stderr",
     "output_type": "stream",
     "text": [
      "  1%|          | 1/123 [00:21<43:30, 21.40s/it]"
     ]
    },
    {
     "name": "stdout",
     "output_type": "stream",
     "text": [
      "Device 2760348383893915: Saved time series plot to results_fr/device_2760348383893915/predictions_over_time.png\n",
      "Filtered 20221 rows for device 2562701969438717. 84922 rows remaining.\n",
      "Device 2562701969438717: Train set size: 37010, Validation set size: 47888\n",
      "Device 2562701969438717: Saved results to results_fr/device_2562701969438717/results.json\n",
      "Device 2562701969438717: Saved scatter plot to results_fr/device_2562701969438717/predictions_vs_actual.png\n"
     ]
    },
    {
     "name": "stderr",
     "output_type": "stream",
     "text": [
      "  2%|▏         | 2/123 [00:23<20:12, 10.02s/it]"
     ]
    },
    {
     "name": "stdout",
     "output_type": "stream",
     "text": [
      "Device 2562701969438717: Saved time series plot to results_fr/device_2562701969438717/predictions_over_time.png\n",
      "Filtered 19981 rows for device 2806035809406684. 85162 rows remaining.\n",
      "Device 2806035809406684: Train set size: 37182, Validation set size: 47956\n",
      "Device 2806035809406684: Saved results to results_fr/device_2806035809406684/results.json\n",
      "Device 2806035809406684: Saved scatter plot to results_fr/device_2806035809406684/predictions_vs_actual.png\n"
     ]
    },
    {
     "name": "stderr",
     "output_type": "stream",
     "text": [
      "  2%|▏         | 3/123 [00:24<12:15,  6.13s/it]"
     ]
    },
    {
     "name": "stdout",
     "output_type": "stream",
     "text": [
      "Device 2806035809406684: Saved time series plot to results_fr/device_2806035809406684/predictions_over_time.png\n",
      "Filtered 20164 rows for device 2790439929052995. 84979 rows remaining.\n",
      "Device 2790439929052995: Train set size: 37008, Validation set size: 47947\n",
      "Device 2790439929052995: Saved results to results_fr/device_2790439929052995/results.json\n",
      "Device 2790439929052995: Saved scatter plot to results_fr/device_2790439929052995/predictions_vs_actual.png\n"
     ]
    },
    {
     "name": "stderr",
     "output_type": "stream",
     "text": [
      "  3%|▎         | 4/123 [00:44<23:02, 11.62s/it]"
     ]
    },
    {
     "name": "stdout",
     "output_type": "stream",
     "text": [
      "Device 2790439929052995: Saved time series plot to results_fr/device_2790439929052995/predictions_over_time.png\n",
      "Filtered 20239 rows for device 2628534928204590. 84904 rows remaining.\n",
      "Device 2628534928204590: Train set size: 36932, Validation set size: 47948\n",
      "Device 2628534928204590: Saved results to results_fr/device_2628534928204590/results.json\n",
      "Device 2628534928204590: Saved scatter plot to results_fr/device_2628534928204590/predictions_vs_actual.png\n"
     ]
    },
    {
     "name": "stderr",
     "output_type": "stream",
     "text": [
      "  4%|▍         | 5/123 [00:46<15:29,  7.88s/it]"
     ]
    },
    {
     "name": "stdout",
     "output_type": "stream",
     "text": [
      "Device 2628534928204590: Saved time series plot to results_fr/device_2628534928204590/predictions_over_time.png\n",
      "Filtered 20427 rows for device 2535333053617205. 84716 rows remaining.\n",
      "Device 2535333053617205: Train set size: 37142, Validation set size: 47550\n",
      "Device 2535333053617205: Saved results to results_fr/device_2535333053617205/results.json\n",
      "Device 2535333053617205: Saved scatter plot to results_fr/device_2535333053617205/predictions_vs_actual.png\n"
     ]
    },
    {
     "name": "stderr",
     "output_type": "stream",
     "text": [
      "  5%|▍         | 6/123 [01:04<22:34, 11.58s/it]"
     ]
    },
    {
     "name": "stdout",
     "output_type": "stream",
     "text": [
      "Device 2535333053617205: Saved time series plot to results_fr/device_2535333053617205/predictions_over_time.png\n",
      "Filtered 20427 rows for device 2619255661594253. 84716 rows remaining.\n",
      "Device 2619255661594253: Train set size: 37002, Validation set size: 47690\n",
      "Device 2619255661594253: Saved results to results_fr/device_2619255661594253/results.json\n",
      "Device 2619255661594253: Saved scatter plot to results_fr/device_2619255661594253/predictions_vs_actual.png\n"
     ]
    },
    {
     "name": "stderr",
     "output_type": "stream",
     "text": [
      "  6%|▌         | 7/123 [01:07<16:51,  8.72s/it]"
     ]
    },
    {
     "name": "stdout",
     "output_type": "stream",
     "text": [
      "Device 2619255661594253: Saved time series plot to results_fr/device_2619255661594253/predictions_over_time.png\n",
      "Filtered 20627 rows for device 2618781414146613. 84516 rows remaining.\n",
      "Device 2618781414146613: Train set size: 36787, Validation set size: 47705\n",
      "Device 2618781414146613: Saved results to results_fr/device_2618781414146613/results.json\n",
      "Device 2618781414146613: Saved scatter plot to results_fr/device_2618781414146613/predictions_vs_actual.png\n"
     ]
    },
    {
     "name": "stderr",
     "output_type": "stream",
     "text": [
      "  7%|▋         | 8/123 [01:10<13:04,  6.82s/it]"
     ]
    },
    {
     "name": "stdout",
     "output_type": "stream",
     "text": [
      "Device 2618781414146613: Saved time series plot to results_fr/device_2618781414146613/predictions_over_time.png\n",
      "Filtered 19957 rows for device 2613654138967436. 85186 rows remaining.\n",
      "Device 2613654138967436: Train set size: 37211, Validation set size: 47951\n",
      "Device 2613654138967436: Saved results to results_fr/device_2613654138967436/results.json\n",
      "Device 2613654138967436: Saved scatter plot to results_fr/device_2613654138967436/predictions_vs_actual.png\n"
     ]
    },
    {
     "name": "stderr",
     "output_type": "stream",
     "text": [
      "  7%|▋         | 9/123 [01:12<10:11,  5.37s/it]"
     ]
    },
    {
     "name": "stdout",
     "output_type": "stream",
     "text": [
      "Device 2613654138967436: Saved time series plot to results_fr/device_2613654138967436/predictions_over_time.png\n",
      "Filtered 19885 rows for device 2762982574975969. 85258 rows remaining.\n",
      "Device 2762982574975969: Train set size: 37286, Validation set size: 47948\n",
      "Device 2762982574975969: Saved results to results_fr/device_2762982574975969/results.json\n",
      "Device 2762982574975969: Saved scatter plot to results_fr/device_2762982574975969/predictions_vs_actual.png\n"
     ]
    },
    {
     "name": "stderr",
     "output_type": "stream",
     "text": [
      "  8%|▊         | 10/123 [01:13<07:40,  4.08s/it]"
     ]
    },
    {
     "name": "stdout",
     "output_type": "stream",
     "text": [
      "Device 2762982574975969: Saved time series plot to results_fr/device_2762982574975969/predictions_over_time.png\n",
      "Filtered 19850 rows for device 2578499186529204. 85293 rows remaining.\n",
      "Device 2578499186529204: Train set size: 37318, Validation set size: 47951\n",
      "Device 2578499186529204: Saved results to results_fr/device_2578499186529204/results.json\n",
      "Device 2578499186529204: Saved scatter plot to results_fr/device_2578499186529204/predictions_vs_actual.png\n"
     ]
    },
    {
     "name": "stderr",
     "output_type": "stream",
     "text": [
      "  9%|▉         | 11/123 [01:35<17:49,  9.55s/it]"
     ]
    },
    {
     "name": "stdout",
     "output_type": "stream",
     "text": [
      "Device 2578499186529204: Saved time series plot to results_fr/device_2578499186529204/predictions_over_time.png\n",
      "Filtered 20415 rows for device 2693289483686059. 84728 rows remaining.\n",
      "Device 2693289483686059: Train set size: 36887, Validation set size: 47817\n",
      "Device 2693289483686059: Saved results to results_fr/device_2693289483686059/results.json\n",
      "Device 2693289483686059: Saved scatter plot to results_fr/device_2693289483686059/predictions_vs_actual.png\n"
     ]
    },
    {
     "name": "stderr",
     "output_type": "stream",
     "text": [
      " 10%|▉         | 12/123 [01:36<12:54,  6.98s/it]"
     ]
    },
    {
     "name": "stdout",
     "output_type": "stream",
     "text": [
      "Device 2693289483686059: Saved time series plot to results_fr/device_2693289483686059/predictions_over_time.png\n",
      "Filtered 20363 rows for device 2549483694528743. 84780 rows remaining.\n",
      "Device 2549483694528743: Train set size: 37120, Validation set size: 47636\n",
      "Device 2549483694528743: Saved results to results_fr/device_2549483694528743/results.json\n",
      "Device 2549483694528743: Saved scatter plot to results_fr/device_2549483694528743/predictions_vs_actual.png\n"
     ]
    },
    {
     "name": "stderr",
     "output_type": "stream",
     "text": [
      " 11%|█         | 13/123 [02:02<23:03, 12.58s/it]"
     ]
    },
    {
     "name": "stdout",
     "output_type": "stream",
     "text": [
      "Device 2549483694528743: Saved time series plot to results_fr/device_2549483694528743/predictions_over_time.png\n",
      "Filtered 20210 rows for device 2614466029028994. 84933 rows remaining.\n",
      "Device 2614466029028994: Train set size: 36956, Validation set size: 47953\n",
      "Device 2614466029028994: Saved results to results_fr/device_2614466029028994/results.json\n",
      "Device 2614466029028994: Saved scatter plot to results_fr/device_2614466029028994/predictions_vs_actual.png\n"
     ]
    },
    {
     "name": "stderr",
     "output_type": "stream",
     "text": [
      " 11%|█▏        | 14/123 [02:03<16:45,  9.23s/it]"
     ]
    },
    {
     "name": "stdout",
     "output_type": "stream",
     "text": [
      "Device 2614466029028994: Saved time series plot to results_fr/device_2614466029028994/predictions_over_time.png\n",
      "Filtered 20341 rows for device 2760979770441910. 84802 rows remaining.\n",
      "Device 2760979770441910: Train set size: 36952, Validation set size: 47826\n",
      "Device 2760979770441910: Saved results to results_fr/device_2760979770441910/results.json\n",
      "Device 2760979770441910: Saved scatter plot to results_fr/device_2760979770441910/predictions_vs_actual.png\n"
     ]
    },
    {
     "name": "stderr",
     "output_type": "stream",
     "text": [
      " 12%|█▏        | 15/123 [02:05<12:15,  6.81s/it]"
     ]
    },
    {
     "name": "stdout",
     "output_type": "stream",
     "text": [
      "Device 2760979770441910: Saved time series plot to results_fr/device_2760979770441910/predictions_over_time.png\n",
      "Filtered 20494 rows for device 2732460999450017. 84649 rows remaining.\n",
      "Device 2732460999450017: Train set size: 37039, Validation set size: 47586\n",
      "Device 2732460999450017: Saved results to results_fr/device_2732460999450017/results.json\n",
      "Device 2732460999450017: Saved scatter plot to results_fr/device_2732460999450017/predictions_vs_actual.png\n"
     ]
    },
    {
     "name": "stderr",
     "output_type": "stream",
     "text": [
      " 13%|█▎        | 16/123 [02:07<09:30,  5.33s/it]"
     ]
    },
    {
     "name": "stdout",
     "output_type": "stream",
     "text": [
      "Device 2732460999450017: Saved time series plot to results_fr/device_2732460999450017/predictions_over_time.png\n",
      "Filtered 20213 rows for device 2549513081490212. 84930 rows remaining.\n",
      "Device 2549513081490212: Train set size: 36950, Validation set size: 47956\n",
      "Device 2549513081490212: Saved results to results_fr/device_2549513081490212/results.json\n",
      "Device 2549513081490212: Saved scatter plot to results_fr/device_2549513081490212/predictions_vs_actual.png\n"
     ]
    },
    {
     "name": "stderr",
     "output_type": "stream",
     "text": [
      " 14%|█▍        | 17/123 [02:07<07:05,  4.01s/it]"
     ]
    },
    {
     "name": "stdout",
     "output_type": "stream",
     "text": [
      "Device 2549513081490212: Saved time series plot to results_fr/device_2549513081490212/predictions_over_time.png\n",
      "Filtered 20365 rows for device 2737293899563066. 84778 rows remaining.\n",
      "Device 2737293899563066: Train set size: 36801, Validation set size: 47953\n",
      "Device 2737293899563066: Saved results to results_fr/device_2737293899563066/results.json\n",
      "Device 2737293899563066: Saved scatter plot to results_fr/device_2737293899563066/predictions_vs_actual.png\n"
     ]
    },
    {
     "name": "stderr",
     "output_type": "stream",
     "text": [
      " 15%|█▍        | 18/123 [03:19<42:33, 24.31s/it]"
     ]
    },
    {
     "name": "stdout",
     "output_type": "stream",
     "text": [
      "Device 2737293899563066: Saved time series plot to results_fr/device_2737293899563066/predictions_over_time.png\n",
      "Filtered 20221 rows for device 2710040674126014. 84922 rows remaining.\n",
      "Device 2710040674126014: Train set size: 36942, Validation set size: 47956\n",
      "Device 2710040674126014: Saved results to results_fr/device_2710040674126014/results.json\n",
      "Device 2710040674126014: Saved scatter plot to results_fr/device_2710040674126014/predictions_vs_actual.png\n"
     ]
    },
    {
     "name": "stderr",
     "output_type": "stream",
     "text": [
      " 15%|█▌        | 19/123 [03:46<43:22, 25.03s/it]"
     ]
    },
    {
     "name": "stdout",
     "output_type": "stream",
     "text": [
      "Device 2710040674126014: Saved time series plot to results_fr/device_2710040674126014/predictions_over_time.png\n",
      "Filtered 19961 rows for device 2570355700484963. 85182 rows remaining.\n",
      "Device 2570355700484963: Train set size: 37336, Validation set size: 47822\n",
      "Device 2570355700484963: Saved results to results_fr/device_2570355700484963/results.json\n",
      "Device 2570355700484963: Saved scatter plot to results_fr/device_2570355700484963/predictions_vs_actual.png\n"
     ]
    },
    {
     "name": "stderr",
     "output_type": "stream",
     "text": [
      " 16%|█▋        | 20/123 [04:51<1:03:47, 37.16s/it]"
     ]
    },
    {
     "name": "stdout",
     "output_type": "stream",
     "text": [
      "Device 2570355700484963: Saved time series plot to results_fr/device_2570355700484963/predictions_over_time.png\n",
      "Filtered 19958 rows for device 2779591174908667. 85185 rows remaining.\n",
      "Device 2779591174908667: Train set size: 37258, Validation set size: 47903\n",
      "Device 2779591174908667: Saved results to results_fr/device_2779591174908667/results.json\n",
      "Device 2779591174908667: Saved scatter plot to results_fr/device_2779591174908667/predictions_vs_actual.png\n"
     ]
    },
    {
     "name": "stderr",
     "output_type": "stream",
     "text": [
      " 17%|█▋        | 21/123 [04:53<45:21, 26.68s/it]  "
     ]
    },
    {
     "name": "stdout",
     "output_type": "stream",
     "text": [
      "Device 2779591174908667: Saved time series plot to results_fr/device_2779591174908667/predictions_over_time.png\n",
      "Filtered 20624 rows for device 2768768486087571. 84519 rows remaining.\n",
      "Device 2768768486087571: Train set size: 36683, Validation set size: 47812\n",
      "Device 2768768486087571: Saved results to results_fr/device_2768768486087571/results.json\n",
      "Device 2768768486087571: Saved scatter plot to results_fr/device_2768768486087571/predictions_vs_actual.png\n"
     ]
    },
    {
     "name": "stderr",
     "output_type": "stream",
     "text": [
      " 18%|█▊        | 22/123 [05:16<42:55, 25.50s/it]"
     ]
    },
    {
     "name": "stdout",
     "output_type": "stream",
     "text": [
      "Device 2768768486087571: Saved time series plot to results_fr/device_2768768486087571/predictions_over_time.png\n",
      "Filtered 20319 rows for device 2810271246509820. 84824 rows remaining.\n",
      "Device 2810271246509820: Train set size: 36852, Validation set size: 47948\n",
      "Device 2810271246509820: Saved results to results_fr/device_2810271246509820/results.json\n",
      "Device 2810271246509820: Saved scatter plot to results_fr/device_2810271246509820/predictions_vs_actual.png\n"
     ]
    },
    {
     "name": "stderr",
     "output_type": "stream",
     "text": [
      " 19%|█▊        | 23/123 [06:15<59:22, 35.63s/it]"
     ]
    },
    {
     "name": "stdout",
     "output_type": "stream",
     "text": [
      "Device 2810271246509820: Saved time series plot to results_fr/device_2810271246509820/predictions_over_time.png\n",
      "Filtered 20000 rows for device 2705858092749449. 85143 rows remaining.\n",
      "Device 2705858092749449: Train set size: 37308, Validation set size: 47811\n",
      "Device 2705858092749449: Saved results to results_fr/device_2705858092749449/results.json\n",
      "Device 2705858092749449: Saved scatter plot to results_fr/device_2705858092749449/predictions_vs_actual.png\n"
     ]
    },
    {
     "name": "stderr",
     "output_type": "stream",
     "text": [
      " 20%|█▉        | 24/123 [06:41<53:56, 32.69s/it]"
     ]
    },
    {
     "name": "stdout",
     "output_type": "stream",
     "text": [
      "Device 2705858092749449: Saved time series plot to results_fr/device_2705858092749449/predictions_over_time.png\n",
      "Filtered 20051 rows for device 2693840961422865. 85092 rows remaining.\n",
      "Device 2693840961422865: Train set size: 37121, Validation set size: 47947\n",
      "Device 2693840961422865: Saved results to results_fr/device_2693840961422865/results.json\n",
      "Device 2693840961422865: Saved scatter plot to results_fr/device_2693840961422865/predictions_vs_actual.png\n"
     ]
    },
    {
     "name": "stderr",
     "output_type": "stream",
     "text": [
      " 20%|██        | 25/123 [06:43<38:20, 23.48s/it]"
     ]
    },
    {
     "name": "stdout",
     "output_type": "stream",
     "text": [
      "Device 2693840961422865: Saved time series plot to results_fr/device_2693840961422865/predictions_over_time.png\n",
      "Filtered 19853 rows for device 2740082748651605. 85290 rows remaining.\n",
      "Device 2740082748651605: Train set size: 37321, Validation set size: 47945\n",
      "Device 2740082748651605: Saved results to results_fr/device_2740082748651605/results.json\n",
      "Device 2740082748651605: Saved scatter plot to results_fr/device_2740082748651605/predictions_vs_actual.png\n"
     ]
    },
    {
     "name": "stderr",
     "output_type": "stream",
     "text": [
      " 21%|██        | 26/123 [07:49<58:23, 36.12s/it]"
     ]
    },
    {
     "name": "stdout",
     "output_type": "stream",
     "text": [
      "Device 2740082748651605: Saved time series plot to results_fr/device_2740082748651605/predictions_over_time.png\n",
      "Filtered 20449 rows for device 2802781341872564. 84694 rows remaining.\n",
      "Device 2802781341872564: Train set size: 36943, Validation set size: 47727\n",
      "Device 2802781341872564: Saved results to results_fr/device_2802781341872564/results.json\n",
      "Device 2802781341872564: Saved scatter plot to results_fr/device_2802781341872564/predictions_vs_actual.png\n"
     ]
    },
    {
     "name": "stderr",
     "output_type": "stream",
     "text": [
      " 22%|██▏       | 27/123 [09:08<1:18:31, 49.08s/it]"
     ]
    },
    {
     "name": "stdout",
     "output_type": "stream",
     "text": [
      "Device 2802781341872564: Saved time series plot to results_fr/device_2802781341872564/predictions_over_time.png\n",
      "Filtered 20195 rows for device 2568004980110825. 84948 rows remaining.\n",
      "Device 2568004980110825: Train set size: 36890, Validation set size: 48034\n",
      "Device 2568004980110825: Saved results to results_fr/device_2568004980110825/results.json\n",
      "Device 2568004980110825: Saved scatter plot to results_fr/device_2568004980110825/predictions_vs_actual.png\n"
     ]
    },
    {
     "name": "stderr",
     "output_type": "stream",
     "text": [
      " 23%|██▎       | 28/123 [09:10<55:10, 34.85s/it]  "
     ]
    },
    {
     "name": "stdout",
     "output_type": "stream",
     "text": [
      "Device 2568004980110825: Saved time series plot to results_fr/device_2568004980110825/predictions_over_time.png\n",
      "Filtered 20093 rows for device 2791846410789505. 85050 rows remaining.\n",
      "Device 2791846410789505: Train set size: 37161, Validation set size: 47865\n",
      "Device 2791846410789505: Saved results to results_fr/device_2791846410789505/results.json\n",
      "Device 2791846410789505: Saved scatter plot to results_fr/device_2791846410789505/predictions_vs_actual.png\n"
     ]
    },
    {
     "name": "stderr",
     "output_type": "stream",
     "text": [
      " 24%|██▎       | 29/123 [09:38<51:18, 32.76s/it]"
     ]
    },
    {
     "name": "stdout",
     "output_type": "stream",
     "text": [
      "Device 2791846410789505: Saved time series plot to results_fr/device_2791846410789505/predictions_over_time.png\n",
      "Filtered 20162 rows for device 2651420801112308. 84981 rows remaining.\n",
      "Device 2651420801112308: Train set size: 37004, Validation set size: 47953\n",
      "Device 2651420801112308: Saved results to results_fr/device_2651420801112308/results.json\n",
      "Device 2651420801112308: Saved scatter plot to results_fr/device_2651420801112308/predictions_vs_actual.png\n"
     ]
    },
    {
     "name": "stderr",
     "output_type": "stream",
     "text": [
      " 24%|██▍       | 30/123 [09:39<36:21, 23.45s/it]"
     ]
    },
    {
     "name": "stdout",
     "output_type": "stream",
     "text": [
      "Device 2651420801112308: Saved time series plot to results_fr/device_2651420801112308/predictions_over_time.png\n",
      "Filtered 20885 rows for device 2792140000757803. 84258 rows remaining.\n",
      "Device 2792140000757803: Train set size: 36926, Validation set size: 47308\n",
      "Device 2792140000757803: Saved results to results_fr/device_2792140000757803/results.json\n",
      "Device 2792140000757803: Saved scatter plot to results_fr/device_2792140000757803/predictions_vs_actual.png\n"
     ]
    },
    {
     "name": "stderr",
     "output_type": "stream",
     "text": [
      " 25%|██▌       | 31/123 [09:41<25:58, 16.94s/it]"
     ]
    },
    {
     "name": "stdout",
     "output_type": "stream",
     "text": [
      "Device 2792140000757803: Saved time series plot to results_fr/device_2792140000757803/predictions_over_time.png\n",
      "Filtered 20141 rows for device 2788179547754974. 85002 rows remaining.\n",
      "Device 2788179547754974: Train set size: 37022, Validation set size: 47956\n",
      "Device 2788179547754974: Saved results to results_fr/device_2788179547754974/results.json\n",
      "Device 2788179547754974: Saved scatter plot to results_fr/device_2788179547754974/predictions_vs_actual.png\n"
     ]
    },
    {
     "name": "stderr",
     "output_type": "stream",
     "text": [
      " 26%|██▌       | 32/123 [09:43<18:56, 12.49s/it]"
     ]
    },
    {
     "name": "stdout",
     "output_type": "stream",
     "text": [
      "Device 2788179547754974: Saved time series plot to results_fr/device_2788179547754974/predictions_over_time.png\n",
      "Filtered 20272 rows for device 2747395873491002. 84871 rows remaining.\n",
      "Device 2747395873491002: Train set size: 36990, Validation set size: 47857\n",
      "Device 2747395873491002: Saved results to results_fr/device_2747395873491002/results.json\n",
      "Device 2747395873491002: Saved scatter plot to results_fr/device_2747395873491002/predictions_vs_actual.png\n"
     ]
    },
    {
     "name": "stderr",
     "output_type": "stream",
     "text": [
      " 27%|██▋       | 33/123 [10:08<24:00, 16.00s/it]"
     ]
    },
    {
     "name": "stdout",
     "output_type": "stream",
     "text": [
      "Device 2747395873491002: Saved time series plot to results_fr/device_2747395873491002/predictions_over_time.png\n",
      "Filtered 20344 rows for device 2618581107144046. 84799 rows remaining.\n",
      "Device 2618581107144046: Train set size: 36819, Validation set size: 47956\n",
      "Device 2618581107144046: Saved results to results_fr/device_2618581107144046/results.json\n",
      "Device 2618581107144046: Saved scatter plot to results_fr/device_2618581107144046/predictions_vs_actual.png\n"
     ]
    },
    {
     "name": "stderr",
     "output_type": "stream",
     "text": [
      " 28%|██▊       | 34/123 [10:10<17:30, 11.81s/it]"
     ]
    },
    {
     "name": "stdout",
     "output_type": "stream",
     "text": [
      "Device 2618581107144046: Saved time series plot to results_fr/device_2618581107144046/predictions_over_time.png\n",
      "Filtered 20451 rows for device 2656676039327836. 84692 rows remaining.\n",
      "Device 2656676039327836: Train set size: 36715, Validation set size: 47953\n",
      "Device 2656676039327836: Saved results to results_fr/device_2656676039327836/results.json\n",
      "Device 2656676039327836: Saved scatter plot to results_fr/device_2656676039327836/predictions_vs_actual.png\n"
     ]
    },
    {
     "name": "stderr",
     "output_type": "stream",
     "text": [
      " 28%|██▊       | 35/123 [11:47<54:50, 37.39s/it]"
     ]
    },
    {
     "name": "stdout",
     "output_type": "stream",
     "text": [
      "Device 2656676039327836: Saved time series plot to results_fr/device_2656676039327836/predictions_over_time.png\n",
      "Filtered 20211 rows for device 2794597849078830. 84932 rows remaining.\n",
      "Device 2794597849078830: Train set size: 37005, Validation set size: 47903\n",
      "Device 2794597849078830: Saved results to results_fr/device_2794597849078830/results.json\n",
      "Device 2794597849078830: Saved scatter plot to results_fr/device_2794597849078830/predictions_vs_actual.png\n"
     ]
    },
    {
     "name": "stderr",
     "output_type": "stream",
     "text": [
      " 29%|██▉       | 36/123 [11:48<38:28, 26.54s/it]"
     ]
    },
    {
     "name": "stdout",
     "output_type": "stream",
     "text": [
      "Device 2794597849078830: Saved time series plot to results_fr/device_2794597849078830/predictions_over_time.png\n",
      "Filtered 20114 rows for device 2601599180090084. 85029 rows remaining.\n",
      "Device 2601599180090084: Train set size: 37058, Validation set size: 47947\n",
      "Device 2601599180090084: Saved results to results_fr/device_2601599180090084/results.json\n",
      "Device 2601599180090084: Saved scatter plot to results_fr/device_2601599180090084/predictions_vs_actual.png\n"
     ]
    },
    {
     "name": "stderr",
     "output_type": "stream",
     "text": [
      " 30%|███       | 37/123 [12:18<39:36, 27.63s/it]"
     ]
    },
    {
     "name": "stdout",
     "output_type": "stream",
     "text": [
      "Device 2601599180090084: Saved time series plot to results_fr/device_2601599180090084/predictions_over_time.png\n",
      "Filtered 20114 rows for device 2546477821573302. 85029 rows remaining.\n",
      "Device 2546477821573302: Train set size: 37208, Validation set size: 47797\n",
      "Device 2546477821573302: Saved results to results_fr/device_2546477821573302/results.json\n",
      "Device 2546477821573302: Saved scatter plot to results_fr/device_2546477821573302/predictions_vs_actual.png\n"
     ]
    },
    {
     "name": "stderr",
     "output_type": "stream",
     "text": [
      " 31%|███       | 38/123 [12:47<39:34, 27.94s/it]"
     ]
    },
    {
     "name": "stdout",
     "output_type": "stream",
     "text": [
      "Device 2546477821573302: Saved time series plot to results_fr/device_2546477821573302/predictions_over_time.png\n",
      "Filtered 21071 rows for device 2743847121700440. 84072 rows remaining.\n",
      "Device 2743847121700440: Train set size: 36746, Validation set size: 47302\n",
      "Device 2743847121700440: Saved results to results_fr/device_2743847121700440/results.json\n",
      "Device 2743847121700440: Saved scatter plot to results_fr/device_2743847121700440/predictions_vs_actual.png\n"
     ]
    },
    {
     "name": "stderr",
     "output_type": "stream",
     "text": [
      " 32%|███▏      | 39/123 [13:58<57:27, 41.04s/it]"
     ]
    },
    {
     "name": "stdout",
     "output_type": "stream",
     "text": [
      "Device 2743847121700440: Saved time series plot to results_fr/device_2743847121700440/predictions_over_time.png\n",
      "Filtered 20428 rows for device 2803088381116360. 84715 rows remaining.\n",
      "Device 2803088381116360: Train set size: 36800, Validation set size: 47891\n",
      "Device 2803088381116360: Saved results to results_fr/device_2803088381116360/results.json\n",
      "Device 2803088381116360: Saved scatter plot to results_fr/device_2803088381116360/predictions_vs_actual.png\n"
     ]
    },
    {
     "name": "stderr",
     "output_type": "stream",
     "text": [
      " 33%|███▎      | 40/123 [14:25<50:52, 36.78s/it]"
     ]
    },
    {
     "name": "stdout",
     "output_type": "stream",
     "text": [
      "Device 2803088381116360: Saved time series plot to results_fr/device_2803088381116360/predictions_over_time.png\n",
      "Filtered 0 rows for device 2731964581915812. 105143 rows remaining.\n",
      "Device 2731964581915812: Train set size: 51828, Validation set size: 53291\n",
      "Device 2731964581915812: Saved results to results_fr/device_2731964581915812/results.json\n",
      "Device 2731964581915812: Saved scatter plot to results_fr/device_2731964581915812/predictions_vs_actual.png\n"
     ]
    },
    {
     "name": "stderr",
     "output_type": "stream",
     "text": [
      " 33%|███▎      | 41/123 [14:26<35:30, 25.98s/it]"
     ]
    },
    {
     "name": "stdout",
     "output_type": "stream",
     "text": [
      "Device 2731964581915812: Saved time series plot to results_fr/device_2731964581915812/predictions_over_time.png\n",
      "Filtered 19878 rows for device 2684239960710884. 85265 rows remaining.\n",
      "Device 2684239960710884: Train set size: 37318, Validation set size: 47923\n",
      "Device 2684239960710884: Saved results to results_fr/device_2684239960710884/results.json\n",
      "Device 2684239960710884: Saved scatter plot to results_fr/device_2684239960710884/predictions_vs_actual.png\n"
     ]
    },
    {
     "name": "stderr",
     "output_type": "stream",
     "text": [
      " 34%|███▍      | 42/123 [14:28<25:31, 18.90s/it]"
     ]
    },
    {
     "name": "stdout",
     "output_type": "stream",
     "text": [
      "Device 2684239960710884: Saved time series plot to results_fr/device_2684239960710884/predictions_over_time.png\n",
      "Filtered 20159 rows for device 2786928005384747. 84984 rows remaining.\n",
      "Device 2786928005384747: Train set size: 37117, Validation set size: 47843\n",
      "Device 2786928005384747: Saved results to results_fr/device_2786928005384747/results.json\n",
      "Device 2786928005384747: Saved scatter plot to results_fr/device_2786928005384747/predictions_vs_actual.png\n"
     ]
    },
    {
     "name": "stderr",
     "output_type": "stream",
     "text": [
      " 35%|███▍      | 43/123 [16:00<54:16, 40.71s/it]"
     ]
    },
    {
     "name": "stdout",
     "output_type": "stream",
     "text": [
      "Device 2786928005384747: Saved time series plot to results_fr/device_2786928005384747/predictions_over_time.png\n",
      "Filtered 20337 rows for device 2584468317047883. 84806 rows remaining.\n",
      "Device 2584468317047883: Train set size: 36826, Validation set size: 47956\n",
      "Device 2584468317047883: Saved results to results_fr/device_2584468317047883/results.json\n",
      "Device 2584468317047883: Saved scatter plot to results_fr/device_2584468317047883/predictions_vs_actual.png\n"
     ]
    },
    {
     "name": "stderr",
     "output_type": "stream",
     "text": [
      " 36%|███▌      | 44/123 [16:28<48:42, 36.99s/it]"
     ]
    },
    {
     "name": "stdout",
     "output_type": "stream",
     "text": [
      "Device 2584468317047883: Saved time series plot to results_fr/device_2584468317047883/predictions_over_time.png\n",
      "Filtered 20136 rows for device 2687242320524339. 85007 rows remaining.\n",
      "Device 2687242320524339: Train set size: 37078, Validation set size: 47905\n",
      "Device 2687242320524339: Saved results to results_fr/device_2687242320524339/results.json\n",
      "Device 2687242320524339: Saved scatter plot to results_fr/device_2687242320524339/predictions_vs_actual.png\n"
     ]
    },
    {
     "name": "stderr",
     "output_type": "stream",
     "text": [
      " 37%|███▋      | 45/123 [16:31<34:50, 26.80s/it]"
     ]
    },
    {
     "name": "stdout",
     "output_type": "stream",
     "text": [
      "Device 2687242320524339: Saved time series plot to results_fr/device_2687242320524339/predictions_over_time.png\n",
      "Filtered 19949 rows for device 2612620611294283. 85194 rows remaining.\n",
      "Device 2612620611294283: Train set size: 37276, Validation set size: 47894\n",
      "Device 2612620611294283: Saved results to results_fr/device_2612620611294283/results.json\n",
      "Device 2612620611294283: Saved scatter plot to results_fr/device_2612620611294283/predictions_vs_actual.png\n"
     ]
    },
    {
     "name": "stderr",
     "output_type": "stream",
     "text": [
      " 37%|███▋      | 46/123 [17:37<49:26, 38.53s/it]"
     ]
    },
    {
     "name": "stdout",
     "output_type": "stream",
     "text": [
      "Device 2612620611294283: Saved time series plot to results_fr/device_2612620611294283/predictions_over_time.png\n",
      "Filtered 20272 rows for device 2580539066022773. 84871 rows remaining.\n",
      "Device 2580539066022773: Train set size: 36899, Validation set size: 47948\n",
      "Device 2580539066022773: Saved results to results_fr/device_2580539066022773/results.json\n",
      "Device 2580539066022773: Saved scatter plot to results_fr/device_2580539066022773/predictions_vs_actual.png\n"
     ]
    },
    {
     "name": "stderr",
     "output_type": "stream",
     "text": [
      " 38%|███▊      | 47/123 [18:03<44:00, 34.74s/it]"
     ]
    },
    {
     "name": "stdout",
     "output_type": "stream",
     "text": [
      "Device 2580539066022773: Saved time series plot to results_fr/device_2580539066022773/predictions_over_time.png\n",
      "Filtered 20026 rows for device 2691496710334693. 85117 rows remaining.\n",
      "Device 2691496710334693: Train set size: 37219, Validation set size: 47874\n",
      "Device 2691496710334693: Saved results to results_fr/device_2691496710334693/results.json\n",
      "Device 2691496710334693: Saved scatter plot to results_fr/device_2691496710334693/predictions_vs_actual.png\n"
     ]
    },
    {
     "name": "stderr",
     "output_type": "stream",
     "text": [
      " 39%|███▉      | 48/123 [18:29<40:02, 32.03s/it]"
     ]
    },
    {
     "name": "stdout",
     "output_type": "stream",
     "text": [
      "Device 2691496710334693: Saved time series plot to results_fr/device_2691496710334693/predictions_over_time.png\n",
      "Filtered 19893 rows for device 2764530915698643. 85250 rows remaining.\n",
      "Device 2764530915698643: Train set size: 37342, Validation set size: 47884\n",
      "Device 2764530915698643: Saved results to results_fr/device_2764530915698643/results.json\n",
      "Device 2764530915698643: Saved scatter plot to results_fr/device_2764530915698643/predictions_vs_actual.png\n"
     ]
    },
    {
     "name": "stderr",
     "output_type": "stream",
     "text": [
      " 40%|███▉      | 49/123 [18:33<29:04, 23.57s/it]"
     ]
    },
    {
     "name": "stdout",
     "output_type": "stream",
     "text": [
      "Device 2764530915698643: Saved time series plot to results_fr/device_2764530915698643/predictions_over_time.png\n",
      "Filtered 19822 rows for device 2658280459967125. 85321 rows remaining.\n",
      "Device 2658280459967125: Train set size: 37344, Validation set size: 47953\n",
      "Device 2658280459967125: Saved results to results_fr/device_2658280459967125/results.json\n",
      "Device 2658280459967125: Saved scatter plot to results_fr/device_2658280459967125/predictions_vs_actual.png\n"
     ]
    },
    {
     "name": "stderr",
     "output_type": "stream",
     "text": [
      " 41%|████      | 50/123 [18:34<20:37, 16.95s/it]"
     ]
    },
    {
     "name": "stdout",
     "output_type": "stream",
     "text": [
      "Device 2658280459967125: Saved time series plot to results_fr/device_2658280459967125/predictions_over_time.png\n",
      "Filtered 20133 rows for device 2641439892024140. 85010 rows remaining.\n",
      "Device 2641439892024140: Train set size: 37035, Validation set size: 47951\n",
      "Device 2641439892024140: Saved results to results_fr/device_2641439892024140/results.json\n",
      "Device 2641439892024140: Saved scatter plot to results_fr/device_2641439892024140/predictions_vs_actual.png\n"
     ]
    },
    {
     "name": "stderr",
     "output_type": "stream",
     "text": [
      " 41%|████▏     | 51/123 [18:37<15:10, 12.65s/it]"
     ]
    },
    {
     "name": "stdout",
     "output_type": "stream",
     "text": [
      "Device 2641439892024140: Saved time series plot to results_fr/device_2641439892024140/predictions_over_time.png\n",
      "Filtered 20508 rows for device 2795032460499273. 84635 rows remaining.\n",
      "Device 2795032460499273: Train set size: 36833, Validation set size: 47778\n",
      "Device 2795032460499273: Saved results to results_fr/device_2795032460499273/results.json\n",
      "Device 2795032460499273: Saved scatter plot to results_fr/device_2795032460499273/predictions_vs_actual.png\n"
     ]
    },
    {
     "name": "stderr",
     "output_type": "stream",
     "text": [
      " 42%|████▏     | 52/123 [18:38<10:50,  9.16s/it]"
     ]
    },
    {
     "name": "stdout",
     "output_type": "stream",
     "text": [
      "Device 2795032460499273: Saved time series plot to results_fr/device_2795032460499273/predictions_over_time.png\n",
      "Filtered 20211 rows for device 2696593986887004. 84932 rows remaining.\n",
      "Device 2696593986887004: Train set size: 37082, Validation set size: 47826\n",
      "Device 2696593986887004: Saved results to results_fr/device_2696593986887004/results.json\n",
      "Device 2696593986887004: Saved scatter plot to results_fr/device_2696593986887004/predictions_vs_actual.png\n"
     ]
    },
    {
     "name": "stderr",
     "output_type": "stream",
     "text": [
      " 43%|████▎     | 53/123 [18:39<08:07,  6.96s/it]"
     ]
    },
    {
     "name": "stdout",
     "output_type": "stream",
     "text": [
      "Device 2696593986887004: Saved time series plot to results_fr/device_2696593986887004/predictions_over_time.png\n",
      "Filtered 21014 rows for device 2728593088050266. 84129 rows remaining.\n",
      "Device 2728593088050266: Train set size: 36803, Validation set size: 47302\n",
      "Device 2728593088050266: Saved results to results_fr/device_2728593088050266/results.json\n",
      "Device 2728593088050266: Saved scatter plot to results_fr/device_2728593088050266/predictions_vs_actual.png\n"
     ]
    },
    {
     "name": "stderr",
     "output_type": "stream",
     "text": [
      " 44%|████▍     | 54/123 [19:16<18:21, 15.96s/it]"
     ]
    },
    {
     "name": "stdout",
     "output_type": "stream",
     "text": [
      "Device 2728593088050266: Saved time series plot to results_fr/device_2728593088050266/predictions_over_time.png\n",
      "Filtered 20220 rows for device 2545072728476481. 84923 rows remaining.\n",
      "Device 2545072728476481: Train set size: 36954, Validation set size: 47945\n",
      "Device 2545072728476481: Saved results to results_fr/device_2545072728476481/results.json\n",
      "Device 2545072728476481: Saved scatter plot to results_fr/device_2545072728476481/predictions_vs_actual.png\n"
     ]
    },
    {
     "name": "stderr",
     "output_type": "stream",
     "text": [
      " 45%|████▍     | 55/123 [20:52<45:17, 39.97s/it]"
     ]
    },
    {
     "name": "stdout",
     "output_type": "stream",
     "text": [
      "Device 2545072728476481: Saved time series plot to results_fr/device_2545072728476481/predictions_over_time.png\n",
      "Filtered 20339 rows for device 2588159730413024. 84804 rows remaining.\n",
      "Device 2588159730413024: Train set size: 36832, Validation set size: 47948\n",
      "Device 2588159730413024: Saved results to results_fr/device_2588159730413024/results.json\n",
      "Device 2588159730413024: Saved scatter plot to results_fr/device_2588159730413024/predictions_vs_actual.png\n"
     ]
    },
    {
     "name": "stderr",
     "output_type": "stream",
     "text": [
      " 46%|████▌     | 56/123 [20:54<31:44, 28.42s/it]"
     ]
    },
    {
     "name": "stdout",
     "output_type": "stream",
     "text": [
      "Device 2588159730413024: Saved time series plot to results_fr/device_2588159730413024/predictions_over_time.png\n",
      "Filtered 20255 rows for device 2619215732412810. 84888 rows remaining.\n",
      "Device 2619215732412810: Train set size: 37042, Validation set size: 47822\n",
      "Device 2619215732412810: Saved results to results_fr/device_2619215732412810/results.json\n",
      "Device 2619215732412810: Saved scatter plot to results_fr/device_2619215732412810/predictions_vs_actual.png\n"
     ]
    },
    {
     "name": "stderr",
     "output_type": "stream",
     "text": [
      " 46%|████▋     | 57/123 [20:56<22:27, 20.42s/it]"
     ]
    },
    {
     "name": "stdout",
     "output_type": "stream",
     "text": [
      "Device 2619215732412810: Saved time series plot to results_fr/device_2619215732412810/predictions_over_time.png\n",
      "Filtered 20299 rows for device 2812366126877759. 84844 rows remaining.\n",
      "Device 2812366126877759: Train set size: 36873, Validation set size: 47947\n",
      "Device 2812366126877759: Saved results to results_fr/device_2812366126877759/results.json\n",
      "Device 2812366126877759: Saved scatter plot to results_fr/device_2812366126877759/predictions_vs_actual.png\n"
     ]
    },
    {
     "name": "stderr",
     "output_type": "stream",
     "text": [
      " 47%|████▋     | 58/123 [20:59<16:25, 15.16s/it]"
     ]
    },
    {
     "name": "stdout",
     "output_type": "stream",
     "text": [
      "Device 2812366126877759: Saved time series plot to results_fr/device_2812366126877759/predictions_over_time.png\n",
      "Filtered 20349 rows for device 2752553640836480. 84794 rows remaining.\n",
      "Device 2752553640836480: Train set size: 37064, Validation set size: 47706\n",
      "Device 2752553640836480: Saved results to results_fr/device_2752553640836480/results.json\n",
      "Device 2752553640836480: Saved scatter plot to results_fr/device_2752553640836480/predictions_vs_actual.png\n"
     ]
    },
    {
     "name": "stderr",
     "output_type": "stream",
     "text": [
      " 48%|████▊     | 59/123 [22:08<33:30, 31.41s/it]"
     ]
    },
    {
     "name": "stdout",
     "output_type": "stream",
     "text": [
      "Device 2752553640836480: Saved time series plot to results_fr/device_2752553640836480/predictions_over_time.png\n",
      "Filtered 20264 rows for device 2578850932476951. 84879 rows remaining.\n",
      "Device 2578850932476951: Train set size: 37032, Validation set size: 47823\n",
      "Device 2578850932476951: Saved results to results_fr/device_2578850932476951/results.json\n",
      "Device 2578850932476951: Saved scatter plot to results_fr/device_2578850932476951/predictions_vs_actual.png\n"
     ]
    },
    {
     "name": "stderr",
     "output_type": "stream",
     "text": [
      " 49%|████▉     | 60/123 [22:15<25:21, 24.15s/it]"
     ]
    },
    {
     "name": "stdout",
     "output_type": "stream",
     "text": [
      "Device 2578850932476951: Saved time series plot to results_fr/device_2578850932476951/predictions_over_time.png\n",
      "Filtered 20306 rows for device 2613479607618585. 84837 rows remaining.\n",
      "Device 2613479607618585: Train set size: 36989, Validation set size: 47824\n",
      "Device 2613479607618585: Saved results to results_fr/device_2613479607618585/results.json\n",
      "Device 2613479607618585: Saved scatter plot to results_fr/device_2613479607618585/predictions_vs_actual.png\n"
     ]
    },
    {
     "name": "stderr",
     "output_type": "stream",
     "text": [
      " 50%|████▉     | 61/123 [22:16<17:49, 17.24s/it]"
     ]
    },
    {
     "name": "stdout",
     "output_type": "stream",
     "text": [
      "Device 2613479607618585: Saved time series plot to results_fr/device_2613479607618585/predictions_over_time.png\n",
      "Filtered 20706 rows for device 2725518459642243. 84437 rows remaining.\n",
      "Device 2725518459642243: Train set size: 36597, Validation set size: 47816\n",
      "Device 2725518459642243: Saved results to results_fr/device_2725518459642243/results.json\n",
      "Device 2725518459642243: Saved scatter plot to results_fr/device_2725518459642243/predictions_vs_actual.png\n"
     ]
    },
    {
     "name": "stderr",
     "output_type": "stream",
     "text": [
      " 50%|█████     | 62/123 [22:49<22:18, 21.94s/it]"
     ]
    },
    {
     "name": "stdout",
     "output_type": "stream",
     "text": [
      "Device 2725518459642243: Saved time series plot to results_fr/device_2725518459642243/predictions_over_time.png\n",
      "Filtered 20047 rows for device 2782657836669444. 85096 rows remaining.\n",
      "Device 2782657836669444: Train set size: 37116, Validation set size: 47956\n",
      "Device 2782657836669444: Saved results to results_fr/device_2782657836669444/results.json\n",
      "Device 2782657836669444: Saved scatter plot to results_fr/device_2782657836669444/predictions_vs_actual.png\n"
     ]
    },
    {
     "name": "stderr",
     "output_type": "stream",
     "text": [
      " 51%|█████     | 63/123 [22:55<17:12, 17.20s/it]"
     ]
    },
    {
     "name": "stdout",
     "output_type": "stream",
     "text": [
      "Device 2782657836669444: Saved time series plot to results_fr/device_2782657836669444/predictions_over_time.png\n",
      "Filtered 19990 rows for device 2739555701122103. 85153 rows remaining.\n",
      "Device 2739555701122103: Train set size: 37306, Validation set size: 47823\n",
      "Device 2739555701122103: Saved results to results_fr/device_2739555701122103/results.json\n",
      "Device 2739555701122103: Saved scatter plot to results_fr/device_2739555701122103/predictions_vs_actual.png\n"
     ]
    },
    {
     "name": "stderr",
     "output_type": "stream",
     "text": [
      " 52%|█████▏    | 64/123 [22:56<12:08, 12.35s/it]"
     ]
    },
    {
     "name": "stdout",
     "output_type": "stream",
     "text": [
      "Device 2739555701122103: Saved time series plot to results_fr/device_2739555701122103/predictions_over_time.png\n",
      "Filtered 20229 rows for device 2786127182232356. 84914 rows remaining.\n",
      "Device 2786127182232356: Train set size: 36991, Validation set size: 47899\n",
      "Device 2786127182232356: Saved results to results_fr/device_2786127182232356/results.json\n",
      "Device 2786127182232356: Saved scatter plot to results_fr/device_2786127182232356/predictions_vs_actual.png\n"
     ]
    },
    {
     "name": "stderr",
     "output_type": "stream",
     "text": [
      " 53%|█████▎    | 65/123 [24:29<35:19, 36.55s/it]"
     ]
    },
    {
     "name": "stdout",
     "output_type": "stream",
     "text": [
      "Device 2786127182232356: Saved time series plot to results_fr/device_2786127182232356/predictions_over_time.png\n",
      "Filtered 20205 rows for device 2607380776570984. 84938 rows remaining.\n",
      "Device 2607380776570984: Train set size: 36967, Validation set size: 47947\n",
      "Device 2607380776570984: Saved results to results_fr/device_2607380776570984/results.json\n",
      "Device 2607380776570984: Saved scatter plot to results_fr/device_2607380776570984/predictions_vs_actual.png\n"
     ]
    },
    {
     "name": "stderr",
     "output_type": "stream",
     "text": [
      " 54%|█████▎    | 66/123 [24:32<25:01, 26.35s/it]"
     ]
    },
    {
     "name": "stdout",
     "output_type": "stream",
     "text": [
      "Device 2607380776570984: Saved time series plot to results_fr/device_2607380776570984/predictions_over_time.png\n",
      "Filtered 20034 rows for device 2811944693103115. 85109 rows remaining.\n",
      "Device 2811944693103115: Train set size: 37259, Validation set size: 47826\n",
      "Device 2811944693103115: Saved results to results_fr/device_2811944693103115/results.json\n",
      "Device 2811944693103115: Saved scatter plot to results_fr/device_2811944693103115/predictions_vs_actual.png\n"
     ]
    },
    {
     "name": "stderr",
     "output_type": "stream",
     "text": [
      " 54%|█████▍    | 67/123 [24:34<17:46, 19.04s/it]"
     ]
    },
    {
     "name": "stdout",
     "output_type": "stream",
     "text": [
      "Device 2811944693103115: Saved time series plot to results_fr/device_2811944693103115/predictions_over_time.png\n",
      "Filtered 20532 rows for device 2627283060405570. 84611 rows remaining.\n",
      "Device 2627283060405570: Train set size: 36885, Validation set size: 47702\n",
      "Device 2627283060405570: Saved results to results_fr/device_2627283060405570/results.json\n",
      "Device 2627283060405570: Saved scatter plot to results_fr/device_2627283060405570/predictions_vs_actual.png\n"
     ]
    },
    {
     "name": "stderr",
     "output_type": "stream",
     "text": [
      " 55%|█████▌    | 68/123 [24:35<12:30, 13.64s/it]"
     ]
    },
    {
     "name": "stdout",
     "output_type": "stream",
     "text": [
      "Device 2627283060405570: Saved time series plot to results_fr/device_2627283060405570/predictions_over_time.png\n",
      "Filtered 20312 rows for device 2558614727946404. 84831 rows remaining.\n",
      "Device 2558614727946404: Train set size: 36919, Validation set size: 47888\n",
      "Device 2558614727946404: Saved results to results_fr/device_2558614727946404/results.json\n",
      "Device 2558614727946404: Saved scatter plot to results_fr/device_2558614727946404/predictions_vs_actual.png\n"
     ]
    },
    {
     "name": "stderr",
     "output_type": "stream",
     "text": [
      " 56%|█████▌    | 69/123 [24:37<09:17, 10.33s/it]"
     ]
    },
    {
     "name": "stdout",
     "output_type": "stream",
     "text": [
      "Device 2558614727946404: Saved time series plot to results_fr/device_2558614727946404/predictions_over_time.png\n",
      "Filtered 20168 rows for device 2680684754684585. 84975 rows remaining.\n",
      "Device 2680684754684585: Train set size: 37000, Validation set size: 47951\n",
      "Device 2680684754684585: Saved results to results_fr/device_2680684754684585/results.json\n",
      "Device 2680684754684585: Saved scatter plot to results_fr/device_2680684754684585/predictions_vs_actual.png\n"
     ]
    },
    {
     "name": "stderr",
     "output_type": "stream",
     "text": [
      " 57%|█████▋    | 70/123 [25:03<13:01, 14.75s/it]"
     ]
    },
    {
     "name": "stdout",
     "output_type": "stream",
     "text": [
      "Device 2680684754684585: Saved time series plot to results_fr/device_2680684754684585/predictions_over_time.png\n",
      "Filtered 20821 rows for device 2607531467124107. 84322 rows remaining.\n",
      "Device 2607531467124107: Train set size: 36615, Validation set size: 47683\n",
      "Device 2607531467124107: Saved results to results_fr/device_2607531467124107/results.json\n",
      "Device 2607531467124107: Saved scatter plot to results_fr/device_2607531467124107/predictions_vs_actual.png\n"
     ]
    },
    {
     "name": "stderr",
     "output_type": "stream",
     "text": [
      " 58%|█████▊    | 71/123 [25:35<17:22, 20.05s/it]"
     ]
    },
    {
     "name": "stdout",
     "output_type": "stream",
     "text": [
      "Device 2607531467124107: Saved time series plot to results_fr/device_2607531467124107/predictions_over_time.png\n",
      "Filtered 30474 rows for device 2656411871653032. 74669 rows remaining.\n",
      "Device 2656411871653032: Train set size: 36873, Validation set size: 37772\n",
      "Device 2656411871653032: Saved results to results_fr/device_2656411871653032/results.json\n",
      "Device 2656411871653032: Saved scatter plot to results_fr/device_2656411871653032/predictions_vs_actual.png\n"
     ]
    },
    {
     "name": "stderr",
     "output_type": "stream",
     "text": [
      " 59%|█████▊    | 72/123 [25:36<12:12, 14.36s/it]"
     ]
    },
    {
     "name": "stdout",
     "output_type": "stream",
     "text": [
      "Device 2656411871653032: Saved time series plot to results_fr/device_2656411871653032/predictions_over_time.png\n",
      "Filtered 20698 rows for device 2603432823050217. 84445 rows remaining.\n",
      "Device 2603432823050217: Train set size: 36827, Validation set size: 47594\n",
      "Device 2603432823050217: Saved results to results_fr/device_2603432823050217/results.json\n",
      "Device 2603432823050217: Saved scatter plot to results_fr/device_2603432823050217/predictions_vs_actual.png\n"
     ]
    },
    {
     "name": "stderr",
     "output_type": "stream",
     "text": [
      " 59%|█████▉    | 73/123 [26:10<16:51, 20.23s/it]"
     ]
    },
    {
     "name": "stdout",
     "output_type": "stream",
     "text": [
      "Device 2603432823050217: Saved time series plot to results_fr/device_2603432823050217/predictions_over_time.png\n",
      "Filtered 20559 rows for device 2684906181773151. 84584 rows remaining.\n",
      "Device 2684906181773151: Train set size: 37095, Validation set size: 47465\n",
      "Device 2684906181773151: Saved results to results_fr/device_2684906181773151/results.json\n",
      "Device 2684906181773151: Saved scatter plot to results_fr/device_2684906181773151/predictions_vs_actual.png\n"
     ]
    },
    {
     "name": "stderr",
     "output_type": "stream",
     "text": [
      " 60%|██████    | 74/123 [26:12<12:04, 14.79s/it]"
     ]
    },
    {
     "name": "stdout",
     "output_type": "stream",
     "text": [
      "Device 2684906181773151: Saved time series plot to results_fr/device_2684906181773151/predictions_over_time.png\n",
      "Filtered 20177 rows for device 2590610591373965. 84966 rows remaining.\n",
      "Device 2590610591373965: Train set size: 36991, Validation set size: 47951\n",
      "Device 2590610591373965: Saved results to results_fr/device_2590610591373965/results.json\n",
      "Device 2590610591373965: Saved scatter plot to results_fr/device_2590610591373965/predictions_vs_actual.png\n"
     ]
    },
    {
     "name": "stderr",
     "output_type": "stream",
     "text": [
      " 61%|██████    | 75/123 [26:41<15:13, 19.04s/it]"
     ]
    },
    {
     "name": "stdout",
     "output_type": "stream",
     "text": [
      "Device 2590610591373965: Saved time series plot to results_fr/device_2590610591373965/predictions_over_time.png\n",
      "Filtered 20276 rows for device 2776979270669786. 84867 rows remaining.\n",
      "Device 2776979270669786: Train set size: 36887, Validation set size: 47956\n",
      "Device 2776979270669786: Saved results to results_fr/device_2776979270669786/results.json\n",
      "Device 2776979270669786: Saved scatter plot to results_fr/device_2776979270669786/predictions_vs_actual.png\n"
     ]
    },
    {
     "name": "stderr",
     "output_type": "stream",
     "text": [
      " 62%|██████▏   | 76/123 [26:43<11:00, 14.05s/it]"
     ]
    },
    {
     "name": "stdout",
     "output_type": "stream",
     "text": [
      "Device 2776979270669786: Saved time series plot to results_fr/device_2776979270669786/predictions_over_time.png\n",
      "Filtered 20310 rows for device 2622037806906769. 84833 rows remaining.\n",
      "Device 2622037806906769: Train set size: 36862, Validation set size: 47947\n",
      "Device 2622037806906769: Saved results to results_fr/device_2622037806906769/results.json\n",
      "Device 2622037806906769: Saved scatter plot to results_fr/device_2622037806906769/predictions_vs_actual.png\n"
     ]
    },
    {
     "name": "stderr",
     "output_type": "stream",
     "text": [
      " 63%|██████▎   | 77/123 [28:02<25:33, 33.33s/it]"
     ]
    },
    {
     "name": "stdout",
     "output_type": "stream",
     "text": [
      "Device 2622037806906769: Saved time series plot to results_fr/device_2622037806906769/predictions_over_time.png\n",
      "Filtered 20197 rows for device 2560929853112707. 84946 rows remaining.\n",
      "Device 2560929853112707: Train set size: 36975, Validation set size: 47947\n",
      "Device 2560929853112707: Saved results to results_fr/device_2560929853112707/results.json\n",
      "Device 2560929853112707: Saved scatter plot to results_fr/device_2560929853112707/predictions_vs_actual.png\n"
     ]
    },
    {
     "name": "stderr",
     "output_type": "stream",
     "text": [
      " 63%|██████▎   | 78/123 [28:05<18:07, 24.17s/it]"
     ]
    },
    {
     "name": "stdout",
     "output_type": "stream",
     "text": [
      "Device 2560929853112707: Saved time series plot to results_fr/device_2560929853112707/predictions_over_time.png\n",
      "Filtered 20318 rows for device 2703938812282949. 84825 rows remaining.\n",
      "Device 2703938812282949: Train set size: 36988, Validation set size: 47813\n",
      "Device 2703938812282949: Saved results to results_fr/device_2703938812282949/results.json\n",
      "Device 2703938812282949: Saved scatter plot to results_fr/device_2703938812282949/predictions_vs_actual.png\n"
     ]
    },
    {
     "name": "stderr",
     "output_type": "stream",
     "text": [
      " 64%|██████▍   | 79/123 [28:06<12:46, 17.42s/it]"
     ]
    },
    {
     "name": "stdout",
     "output_type": "stream",
     "text": [
      "Device 2703938812282949: Saved time series plot to results_fr/device_2703938812282949/predictions_over_time.png\n",
      "Filtered 20507 rows for device 2580869304551907. 84636 rows remaining.\n",
      "Device 2580869304551907: Train set size: 36671, Validation set size: 47941\n",
      "Device 2580869304551907: Saved results to results_fr/device_2580869304551907/results.json\n",
      "Device 2580869304551907: Saved scatter plot to results_fr/device_2580869304551907/predictions_vs_actual.png\n"
     ]
    },
    {
     "name": "stderr",
     "output_type": "stream",
     "text": [
      " 65%|██████▌   | 80/123 [28:11<09:43, 13.56s/it]"
     ]
    },
    {
     "name": "stdout",
     "output_type": "stream",
     "text": [
      "Device 2580869304551907: Saved time series plot to results_fr/device_2580869304551907/predictions_over_time.png\n",
      "Filtered 20207 rows for device 2599277484308959. 84936 rows remaining.\n",
      "Device 2599277484308959: Train set size: 36957, Validation set size: 47955\n",
      "Device 2599277484308959: Saved results to results_fr/device_2599277484308959/results.json\n",
      "Device 2599277484308959: Saved scatter plot to results_fr/device_2599277484308959/predictions_vs_actual.png\n"
     ]
    },
    {
     "name": "stderr",
     "output_type": "stream",
     "text": [
      " 66%|██████▌   | 81/123 [28:12<06:52,  9.82s/it]"
     ]
    },
    {
     "name": "stdout",
     "output_type": "stream",
     "text": [
      "Device 2599277484308959: Saved time series plot to results_fr/device_2599277484308959/predictions_over_time.png\n",
      "Filtered 20190 rows for device 2792898514969792. 84953 rows remaining.\n",
      "Device 2792898514969792: Train set size: 37037, Validation set size: 47892\n",
      "Device 2792898514969792: Saved results to results_fr/device_2792898514969792/results.json\n",
      "Device 2792898514969792: Saved scatter plot to results_fr/device_2792898514969792/predictions_vs_actual.png\n"
     ]
    },
    {
     "name": "stderr",
     "output_type": "stream",
     "text": [
      " 67%|██████▋   | 82/123 [28:41<10:43, 15.70s/it]"
     ]
    },
    {
     "name": "stdout",
     "output_type": "stream",
     "text": [
      "Device 2792898514969792: Saved time series plot to results_fr/device_2792898514969792/predictions_over_time.png\n",
      "Filtered 20191 rows for device 2726572904605154. 84952 rows remaining.\n",
      "Device 2726572904605154: Train set size: 36972, Validation set size: 47956\n",
      "Device 2726572904605154: Saved results to results_fr/device_2726572904605154/results.json\n",
      "Device 2726572904605154: Saved scatter plot to results_fr/device_2726572904605154/predictions_vs_actual.png\n"
     ]
    },
    {
     "name": "stderr",
     "output_type": "stream",
     "text": [
      " 67%|██████▋   | 83/123 [28:42<07:33, 11.34s/it]"
     ]
    },
    {
     "name": "stdout",
     "output_type": "stream",
     "text": [
      "Device 2726572904605154: Saved time series plot to results_fr/device_2726572904605154/predictions_over_time.png\n",
      "Filtered 20239 rows for device 2605375500053318. 84904 rows remaining.\n",
      "Device 2605375500053318: Train set size: 37057, Validation set size: 47823\n",
      "Device 2605375500053318: Saved results to results_fr/device_2605375500053318/results.json\n",
      "Device 2605375500053318: Saved scatter plot to results_fr/device_2605375500053318/predictions_vs_actual.png\n"
     ]
    },
    {
     "name": "stderr",
     "output_type": "stream",
     "text": [
      " 68%|██████▊   | 84/123 [29:15<11:29, 17.68s/it]"
     ]
    },
    {
     "name": "stdout",
     "output_type": "stream",
     "text": [
      "Device 2605375500053318: Saved time series plot to results_fr/device_2605375500053318/predictions_over_time.png\n",
      "Filtered 20473 rows for device 2734562572216344. 84670 rows remaining.\n",
      "Device 2734562572216344: Train set size: 36938, Validation set size: 47708\n",
      "Device 2734562572216344: Saved results to results_fr/device_2734562572216344/results.json\n",
      "Device 2734562572216344: Saved scatter plot to results_fr/device_2734562572216344/predictions_vs_actual.png\n"
     ]
    },
    {
     "name": "stderr",
     "output_type": "stream",
     "text": [
      " 69%|██████▉   | 85/123 [30:23<20:41, 32.66s/it]"
     ]
    },
    {
     "name": "stdout",
     "output_type": "stream",
     "text": [
      "Device 2734562572216344: Saved time series plot to results_fr/device_2734562572216344/predictions_over_time.png\n",
      "Filtered 20104 rows for device 2715399727027143. 85039 rows remaining.\n",
      "Device 2715399727027143: Train set size: 37068, Validation set size: 47947\n",
      "Device 2715399727027143: Saved results to results_fr/device_2715399727027143/results.json\n",
      "Device 2715399727027143: Saved scatter plot to results_fr/device_2715399727027143/predictions_vs_actual.png\n"
     ]
    },
    {
     "name": "stderr",
     "output_type": "stream",
     "text": [
      " 70%|██████▉   | 86/123 [30:50<19:09, 31.06s/it]"
     ]
    },
    {
     "name": "stdout",
     "output_type": "stream",
     "text": [
      "Device 2715399727027143: Saved time series plot to results_fr/device_2715399727027143/predictions_over_time.png\n",
      "Filtered 20195 rows for device 2746959064186014. 84948 rows remaining.\n",
      "Device 2746959064186014: Train set size: 36968, Validation set size: 47956\n",
      "Device 2746959064186014: Saved results to results_fr/device_2746959064186014/results.json\n",
      "Device 2746959064186014: Saved scatter plot to results_fr/device_2746959064186014/predictions_vs_actual.png\n"
     ]
    },
    {
     "name": "stderr",
     "output_type": "stream",
     "text": [
      " 71%|███████   | 87/123 [30:53<13:38, 22.74s/it]"
     ]
    },
    {
     "name": "stdout",
     "output_type": "stream",
     "text": [
      "Device 2746959064186014: Saved time series plot to results_fr/device_2746959064186014/predictions_over_time.png\n",
      "Filtered 20227 rows for device 2698594043420456. 84916 rows remaining.\n",
      "Device 2698594043420456: Train set size: 37070, Validation set size: 47822\n",
      "Device 2698594043420456: Saved results to results_fr/device_2698594043420456/results.json\n",
      "Device 2698594043420456: Saved scatter plot to results_fr/device_2698594043420456/predictions_vs_actual.png\n"
     ]
    },
    {
     "name": "stderr",
     "output_type": "stream",
     "text": [
      " 72%|███████▏  | 88/123 [31:17<13:26, 23.04s/it]"
     ]
    },
    {
     "name": "stdout",
     "output_type": "stream",
     "text": [
      "Device 2698594043420456: Saved time series plot to results_fr/device_2698594043420456/predictions_over_time.png\n",
      "Filtered 19850 rows for device 2779757898406144. 85293 rows remaining.\n",
      "Device 2779757898406144: Train set size: 37318, Validation set size: 47951\n",
      "Device 2779757898406144: Saved results to results_fr/device_2779757898406144/results.json\n",
      "Device 2779757898406144: Saved scatter plot to results_fr/device_2779757898406144/predictions_vs_actual.png\n"
     ]
    },
    {
     "name": "stderr",
     "output_type": "stream",
     "text": [
      " 72%|███████▏  | 89/123 [31:19<09:24, 16.60s/it]"
     ]
    },
    {
     "name": "stdout",
     "output_type": "stream",
     "text": [
      "Device 2779757898406144: Saved time series plot to results_fr/device_2779757898406144/predictions_over_time.png\n",
      "Filtered 20602 rows for device 2667818838237334. 84541 rows remaining.\n",
      "Device 2667818838237334: Train set size: 37071, Validation set size: 47446\n",
      "Device 2667818838237334: Saved results to results_fr/device_2667818838237334/results.json\n",
      "Device 2667818838237334: Saved scatter plot to results_fr/device_2667818838237334/predictions_vs_actual.png\n"
     ]
    },
    {
     "name": "stderr",
     "output_type": "stream",
     "text": [
      " 73%|███████▎  | 90/123 [32:38<19:27, 35.38s/it]"
     ]
    },
    {
     "name": "stdout",
     "output_type": "stream",
     "text": [
      "Device 2667818838237334: Saved time series plot to results_fr/device_2667818838237334/predictions_over_time.png\n",
      "Filtered 20447 rows for device 2577372819803107. 84696 rows remaining.\n",
      "Device 2577372819803107: Train set size: 36721, Validation set size: 47951\n",
      "Device 2577372819803107: Saved results to results_fr/device_2577372819803107/results.json\n",
      "Device 2577372819803107: Saved scatter plot to results_fr/device_2577372819803107/predictions_vs_actual.png\n"
     ]
    },
    {
     "name": "stderr",
     "output_type": "stream",
     "text": [
      " 74%|███████▍  | 91/123 [32:39<13:24, 25.13s/it]"
     ]
    },
    {
     "name": "stdout",
     "output_type": "stream",
     "text": [
      "Device 2577372819803107: Saved time series plot to results_fr/device_2577372819803107/predictions_over_time.png\n",
      "Filtered 19828 rows for device 2657554847589841. 85315 rows remaining.\n",
      "Device 2657554847589841: Train set size: 37344, Validation set size: 47947\n",
      "Device 2657554847589841: Saved results to results_fr/device_2657554847589841/results.json\n",
      "Device 2657554847589841: Saved scatter plot to results_fr/device_2657554847589841/predictions_vs_actual.png\n"
     ]
    },
    {
     "name": "stderr",
     "output_type": "stream",
     "text": [
      " 75%|███████▍  | 92/123 [32:41<09:24, 18.21s/it]"
     ]
    },
    {
     "name": "stdout",
     "output_type": "stream",
     "text": [
      "Device 2657554847589841: Saved time series plot to results_fr/device_2657554847589841/predictions_over_time.png\n",
      "Filtered 20103 rows for device 2736579912341782. 85040 rows remaining.\n",
      "Device 2736579912341782: Train set size: 37202, Validation set size: 47814\n",
      "Device 2736579912341782: Saved results to results_fr/device_2736579912341782/results.json\n",
      "Device 2736579912341782: Saved scatter plot to results_fr/device_2736579912341782/predictions_vs_actual.png\n"
     ]
    },
    {
     "name": "stderr",
     "output_type": "stream",
     "text": [
      " 76%|███████▌  | 93/123 [33:10<10:39, 21.30s/it]"
     ]
    },
    {
     "name": "stdout",
     "output_type": "stream",
     "text": [
      "Device 2736579912341782: Saved time series plot to results_fr/device_2736579912341782/predictions_over_time.png\n",
      "Filtered 20452 rows for device 2703995402831823. 84691 rows remaining.\n",
      "Device 2703995402831823: Train set size: 36841, Validation set size: 47826\n",
      "Device 2703995402831823: Saved results to results_fr/device_2703995402831823/results.json\n",
      "Device 2703995402831823: Saved scatter plot to results_fr/device_2703995402831823/predictions_vs_actual.png\n"
     ]
    },
    {
     "name": "stderr",
     "output_type": "stream",
     "text": [
      " 76%|███████▋  | 94/123 [33:17<08:19, 17.24s/it]"
     ]
    },
    {
     "name": "stdout",
     "output_type": "stream",
     "text": [
      "Device 2703995402831823: Saved time series plot to results_fr/device_2703995402831823/predictions_over_time.png\n",
      "Filtered 20746 rows for device 2758068039436455. 84397 rows remaining.\n",
      "Device 2758068039436455: Train set size: 37186, Validation set size: 47187\n",
      "Device 2758068039436455: Saved results to results_fr/device_2758068039436455/results.json\n",
      "Device 2758068039436455: Saved scatter plot to results_fr/device_2758068039436455/predictions_vs_actual.png\n"
     ]
    },
    {
     "name": "stderr",
     "output_type": "stream",
     "text": [
      " 77%|███████▋  | 95/123 [33:57<11:09, 23.90s/it]"
     ]
    },
    {
     "name": "stdout",
     "output_type": "stream",
     "text": [
      "Device 2758068039436455: Saved time series plot to results_fr/device_2758068039436455/predictions_over_time.png\n",
      "Filtered 20266 rows for device 2712344453081531. 84877 rows remaining.\n",
      "Device 2712344453081531: Train set size: 36954, Validation set size: 47899\n",
      "Device 2712344453081531: Saved results to results_fr/device_2712344453081531/results.json\n",
      "Device 2712344453081531: Saved scatter plot to results_fr/device_2712344453081531/predictions_vs_actual.png\n"
     ]
    },
    {
     "name": "stderr",
     "output_type": "stream",
     "text": [
      " 78%|███████▊  | 96/123 [34:04<08:30, 18.91s/it]"
     ]
    },
    {
     "name": "stdout",
     "output_type": "stream",
     "text": [
      "Device 2712344453081531: Saved time series plot to results_fr/device_2712344453081531/predictions_over_time.png\n",
      "Filtered 21057 rows for device 2555387941965464. 84086 rows remaining.\n",
      "Device 2555387941965464: Train set size: 36760, Validation set size: 47302\n",
      "Device 2555387941965464: Saved results to results_fr/device_2555387941965464/results.json\n",
      "Device 2555387941965464: Saved scatter plot to results_fr/device_2555387941965464/predictions_vs_actual.png\n"
     ]
    },
    {
     "name": "stderr",
     "output_type": "stream",
     "text": [
      " 79%|███████▉  | 97/123 [35:18<15:20, 35.41s/it]"
     ]
    },
    {
     "name": "stdout",
     "output_type": "stream",
     "text": [
      "Device 2555387941965464: Saved time series plot to results_fr/device_2555387941965464/predictions_over_time.png\n",
      "Filtered 20356 rows for device 2683563351071572. 84787 rows remaining.\n",
      "Device 2683563351071572: Train set size: 36865, Validation set size: 47898\n",
      "Device 2683563351071572: Saved results to results_fr/device_2683563351071572/results.json\n",
      "Device 2683563351071572: Saved scatter plot to results_fr/device_2683563351071572/predictions_vs_actual.png\n"
     ]
    },
    {
     "name": "stderr",
     "output_type": "stream",
     "text": [
      " 80%|███████▉  | 98/123 [35:50<14:22, 34.49s/it]"
     ]
    },
    {
     "name": "stdout",
     "output_type": "stream",
     "text": [
      "Device 2683563351071572: Saved time series plot to results_fr/device_2683563351071572/predictions_over_time.png\n",
      "Filtered 20109 rows for device 2706839052470546. 85034 rows remaining.\n",
      "Device 2706839052470546: Train set size: 37196, Validation set size: 47814\n",
      "Device 2706839052470546: Saved results to results_fr/device_2706839052470546/results.json\n",
      "Device 2706839052470546: Saved scatter plot to results_fr/device_2706839052470546/predictions_vs_actual.png\n"
     ]
    },
    {
     "name": "stderr",
     "output_type": "stream",
     "text": [
      " 80%|████████  | 99/123 [37:10<19:15, 48.13s/it]"
     ]
    },
    {
     "name": "stdout",
     "output_type": "stream",
     "text": [
      "Device 2706839052470546: Saved time series plot to results_fr/device_2706839052470546/predictions_over_time.png\n",
      "Filtered 20697 rows for device 2749879183751781. 84446 rows remaining.\n",
      "Device 2749879183751781: Train set size: 36957, Validation set size: 47465\n",
      "Device 2749879183751781: Saved results to results_fr/device_2749879183751781/results.json\n",
      "Device 2749879183751781: Saved scatter plot to results_fr/device_2749879183751781/predictions_vs_actual.png\n"
     ]
    },
    {
     "name": "stderr",
     "output_type": "stream",
     "text": [
      " 81%|████████▏ | 100/123 [37:37<15:59, 41.72s/it]"
     ]
    },
    {
     "name": "stdout",
     "output_type": "stream",
     "text": [
      "Device 2749879183751781: Saved time series plot to results_fr/device_2749879183751781/predictions_over_time.png\n",
      "Filtered 20634 rows for device 2620112368775269. 84509 rows remaining.\n",
      "Device 2620112368775269: Train set size: 36896, Validation set size: 47589\n",
      "Device 2620112368775269: Saved results to results_fr/device_2620112368775269/results.json\n",
      "Device 2620112368775269: Saved scatter plot to results_fr/device_2620112368775269/predictions_vs_actual.png\n"
     ]
    },
    {
     "name": "stderr",
     "output_type": "stream",
     "text": [
      " 82%|████████▏ | 101/123 [37:40<11:01, 30.05s/it]"
     ]
    },
    {
     "name": "stdout",
     "output_type": "stream",
     "text": [
      "Device 2620112368775269: Saved time series plot to results_fr/device_2620112368775269/predictions_over_time.png\n",
      "Filtered 20235 rows for device 2807442344300820. 84908 rows remaining.\n",
      "Device 2807442344300820: Train set size: 36985, Validation set size: 47899\n",
      "Device 2807442344300820: Saved results to results_fr/device_2807442344300820/results.json\n",
      "Device 2807442344300820: Saved scatter plot to results_fr/device_2807442344300820/predictions_vs_actual.png\n"
     ]
    },
    {
     "name": "stderr",
     "output_type": "stream",
     "text": [
      " 83%|████████▎ | 102/123 [38:13<10:51, 31.00s/it]"
     ]
    },
    {
     "name": "stdout",
     "output_type": "stream",
     "text": [
      "Device 2807442344300820: Saved time series plot to results_fr/device_2807442344300820/predictions_over_time.png\n",
      "Filtered 20355 rows for device 2806531358805482. 84788 rows remaining.\n",
      "Device 2806531358805482: Train set size: 36856, Validation set size: 47908\n",
      "Device 2806531358805482: Saved results to results_fr/device_2806531358805482/results.json\n",
      "Device 2806531358805482: Saved scatter plot to results_fr/device_2806531358805482/predictions_vs_actual.png\n"
     ]
    },
    {
     "name": "stderr",
     "output_type": "stream",
     "text": [
      " 84%|████████▎ | 103/123 [38:15<07:23, 22.16s/it]"
     ]
    },
    {
     "name": "stdout",
     "output_type": "stream",
     "text": [
      "Device 2806531358805482: Saved time series plot to results_fr/device_2806531358805482/predictions_over_time.png\n",
      "Filtered 20549 rows for device 2674020841435318. 84594 rows remaining.\n",
      "Device 2674020841435318: Train set size: 36614, Validation set size: 47956\n",
      "Device 2674020841435318: Saved results to results_fr/device_2674020841435318/results.json\n",
      "Device 2674020841435318: Saved scatter plot to results_fr/device_2674020841435318/predictions_vs_actual.png\n"
     ]
    },
    {
     "name": "stderr",
     "output_type": "stream",
     "text": [
      " 85%|████████▍ | 104/123 [38:17<05:07, 16.17s/it]"
     ]
    },
    {
     "name": "stdout",
     "output_type": "stream",
     "text": [
      "Device 2674020841435318: Saved time series plot to results_fr/device_2674020841435318/predictions_over_time.png\n",
      "Filtered 20926 rows for device 2590087554896009. 84217 rows remaining.\n",
      "Device 2590087554896009: Train set size: 37029, Validation set size: 47164\n",
      "Device 2590087554896009: Saved results to results_fr/device_2590087554896009/results.json\n",
      "Device 2590087554896009: Saved scatter plot to results_fr/device_2590087554896009/predictions_vs_actual.png\n"
     ]
    },
    {
     "name": "stderr",
     "output_type": "stream",
     "text": [
      " 85%|████████▌ | 105/123 [38:19<03:33, 11.86s/it]"
     ]
    },
    {
     "name": "stdout",
     "output_type": "stream",
     "text": [
      "Device 2590087554896009: Saved time series plot to results_fr/device_2590087554896009/predictions_over_time.png\n",
      "Filtered 20179 rows for device 2618254258255786. 84964 rows remaining.\n",
      "Device 2618254258255786: Train set size: 36984, Validation set size: 47956\n",
      "Device 2618254258255786: Saved results to results_fr/device_2618254258255786/results.json\n",
      "Device 2618254258255786: Saved scatter plot to results_fr/device_2618254258255786/predictions_vs_actual.png\n"
     ]
    },
    {
     "name": "stderr",
     "output_type": "stream",
     "text": [
      " 86%|████████▌ | 106/123 [38:20<02:31,  8.89s/it]"
     ]
    },
    {
     "name": "stdout",
     "output_type": "stream",
     "text": [
      "Device 2618254258255786: Saved time series plot to results_fr/device_2618254258255786/predictions_over_time.png\n",
      "Filtered 20275 rows for device 2787448836354673. 84868 rows remaining.\n",
      "Device 2787448836354673: Train set size: 36899, Validation set size: 47945\n",
      "Device 2787448836354673: Saved results to results_fr/device_2787448836354673/results.json\n",
      "Device 2787448836354673: Saved scatter plot to results_fr/device_2787448836354673/predictions_vs_actual.png\n"
     ]
    },
    {
     "name": "stderr",
     "output_type": "stream",
     "text": [
      " 87%|████████▋ | 107/123 [38:57<04:34, 17.17s/it]"
     ]
    },
    {
     "name": "stdout",
     "output_type": "stream",
     "text": [
      "Device 2787448836354673: Saved time series plot to results_fr/device_2787448836354673/predictions_over_time.png\n",
      "Filtered 20173 rows for device 2717096440251637. 84970 rows remaining.\n",
      "Device 2717096440251637: Train set size: 36990, Validation set size: 47956\n",
      "Device 2717096440251637: Saved results to results_fr/device_2717096440251637/results.json\n",
      "Device 2717096440251637: Saved scatter plot to results_fr/device_2717096440251637/predictions_vs_actual.png\n"
     ]
    },
    {
     "name": "stderr",
     "output_type": "stream",
     "text": [
      " 88%|████████▊ | 108/123 [39:04<03:32, 14.18s/it]"
     ]
    },
    {
     "name": "stdout",
     "output_type": "stream",
     "text": [
      "Device 2717096440251637: Saved time series plot to results_fr/device_2717096440251637/predictions_over_time.png\n",
      "Filtered 0 rows for device 16286830034440683520. 105143 rows remaining.\n",
      "Device 16286830034440683520: Train set size: 51828, Validation set size: 53291\n",
      "Device 16286830034440683520: Saved results to results_fr/device_16286830034440683520/results.json\n",
      "Device 16286830034440683520: Saved scatter plot to results_fr/device_16286830034440683520/predictions_vs_actual.png\n"
     ]
    },
    {
     "name": "stderr",
     "output_type": "stream",
     "text": [
      " 89%|████████▊ | 109/123 [39:05<02:22, 10.17s/it]"
     ]
    },
    {
     "name": "stdout",
     "output_type": "stream",
     "text": [
      "Device 16286830034440683520: Saved time series plot to results_fr/device_16286830034440683520/predictions_over_time.png\n",
      "Filtered 20018 rows for device 2578744141471091. 85125 rows remaining.\n",
      "Device 2578744141471091: Train set size: 37145, Validation set size: 47956\n",
      "Device 2578744141471091: Saved results to results_fr/device_2578744141471091/results.json\n",
      "Device 2578744141471091: Saved scatter plot to results_fr/device_2578744141471091/predictions_vs_actual.png\n"
     ]
    },
    {
     "name": "stderr",
     "output_type": "stream",
     "text": [
      " 89%|████████▉ | 110/123 [40:36<07:27, 34.38s/it]"
     ]
    },
    {
     "name": "stdout",
     "output_type": "stream",
     "text": [
      "Device 2578744141471091: Saved time series plot to results_fr/device_2578744141471091/predictions_over_time.png\n",
      "Filtered 20530 rows for device 2657144210326005. 84613 rows remaining.\n",
      "Device 2657144210326005: Train set size: 37505, Validation set size: 47084\n",
      "Device 2657144210326005: Saved results to results_fr/device_2657144210326005/results.json\n",
      "Device 2657144210326005: Saved scatter plot to results_fr/device_2657144210326005/predictions_vs_actual.png\n"
     ]
    },
    {
     "name": "stderr",
     "output_type": "stream",
     "text": [
      " 90%|█████████ | 111/123 [42:09<10:24, 52.06s/it]"
     ]
    },
    {
     "name": "stdout",
     "output_type": "stream",
     "text": [
      "Device 2657144210326005: Saved time series plot to results_fr/device_2657144210326005/predictions_over_time.png\n",
      "Filtered 20333 rows for device 2720359073646091. 84810 rows remaining.\n",
      "Device 2720359073646091: Train set size: 36960, Validation set size: 47826\n",
      "Device 2720359073646091: Saved results to results_fr/device_2720359073646091/results.json\n",
      "Device 2720359073646091: Saved scatter plot to results_fr/device_2720359073646091/predictions_vs_actual.png\n"
     ]
    },
    {
     "name": "stderr",
     "output_type": "stream",
     "text": [
      " 91%|█████████ | 112/123 [42:11<06:47, 37.00s/it]"
     ]
    },
    {
     "name": "stdout",
     "output_type": "stream",
     "text": [
      "Device 2720359073646091: Saved time series plot to results_fr/device_2720359073646091/predictions_over_time.png\n",
      "Filtered 20040 rows for device 2766271641619615. 85103 rows remaining.\n",
      "Device 2766271641619615: Train set size: 37215, Validation set size: 47864\n",
      "Device 2766271641619615: Saved results to results_fr/device_2766271641619615/results.json\n",
      "Device 2766271641619615: Saved scatter plot to results_fr/device_2766271641619615/predictions_vs_actual.png\n"
     ]
    },
    {
     "name": "stderr",
     "output_type": "stream",
     "text": [
      " 92%|█████████▏| 113/123 [43:12<07:23, 44.32s/it]"
     ]
    },
    {
     "name": "stdout",
     "output_type": "stream",
     "text": [
      "Device 2766271641619615: Saved time series plot to results_fr/device_2766271641619615/predictions_over_time.png\n",
      "Filtered 20444 rows for device 2696383178287941. 84699 rows remaining.\n",
      "Device 2696383178287941: Train set size: 36719, Validation set size: 47956\n",
      "Device 2696383178287941: Saved results to results_fr/device_2696383178287941/results.json\n",
      "Device 2696383178287941: Saved scatter plot to results_fr/device_2696383178287941/predictions_vs_actual.png\n"
     ]
    },
    {
     "name": "stderr",
     "output_type": "stream",
     "text": [
      " 93%|█████████▎| 114/123 [43:19<04:58, 33.14s/it]"
     ]
    },
    {
     "name": "stdout",
     "output_type": "stream",
     "text": [
      "Device 2696383178287941: Saved time series plot to results_fr/device_2696383178287941/predictions_over_time.png\n",
      "Filtered 20202 rows for device 2591831048896702. 84941 rows remaining.\n",
      "Device 2591831048896702: Train set size: 37009, Validation set size: 47908\n",
      "Device 2591831048896702: Saved results to results_fr/device_2591831048896702/results.json\n",
      "Device 2591831048896702: Saved scatter plot to results_fr/device_2591831048896702/predictions_vs_actual.png\n"
     ]
    },
    {
     "name": "stderr",
     "output_type": "stream",
     "text": [
      " 93%|█████████▎| 115/123 [43:23<03:13, 24.21s/it]"
     ]
    },
    {
     "name": "stdout",
     "output_type": "stream",
     "text": [
      "Device 2591831048896702: Saved time series plot to results_fr/device_2591831048896702/predictions_over_time.png\n",
      "Filtered 19812 rows for device 2538526995118004. 85331 rows remaining.\n",
      "Device 2538526995118004: Train set size: 37359, Validation set size: 47948\n",
      "Device 2538526995118004: Saved results to results_fr/device_2538526995118004/results.json\n",
      "Device 2538526995118004: Saved scatter plot to results_fr/device_2538526995118004/predictions_vs_actual.png\n"
     ]
    },
    {
     "name": "stderr",
     "output_type": "stream",
     "text": [
      " 94%|█████████▍| 116/123 [44:33<04:26, 38.10s/it]"
     ]
    },
    {
     "name": "stdout",
     "output_type": "stream",
     "text": [
      "Device 2538526995118004: Saved time series plot to results_fr/device_2538526995118004/predictions_over_time.png\n",
      "Filtered 19955 rows for device 2651594506537727. 85188 rows remaining.\n",
      "Device 2651594506537727: Train set size: 37312, Validation set size: 47852\n",
      "Device 2651594506537727: Saved results to results_fr/device_2651594506537727/results.json\n",
      "Device 2651594506537727: Saved scatter plot to results_fr/device_2651594506537727/predictions_vs_actual.png\n"
     ]
    },
    {
     "name": "stderr",
     "output_type": "stream",
     "text": [
      " 95%|█████████▌| 117/123 [44:41<02:54, 29.02s/it]"
     ]
    },
    {
     "name": "stdout",
     "output_type": "stream",
     "text": [
      "Device 2651594506537727: Saved time series plot to results_fr/device_2651594506537727/predictions_over_time.png\n",
      "Filtered 20114 rows for device 2696614388023593. 85029 rows remaining.\n",
      "Device 2696614388023593: Train set size: 37282, Validation set size: 47723\n",
      "Device 2696614388023593: Saved results to results_fr/device_2696614388023593/results.json\n",
      "Device 2696614388023593: Saved scatter plot to results_fr/device_2696614388023593/predictions_vs_actual.png\n"
     ]
    },
    {
     "name": "stderr",
     "output_type": "stream",
     "text": [
      " 96%|█████████▌| 118/123 [46:14<04:01, 48.27s/it]"
     ]
    },
    {
     "name": "stdout",
     "output_type": "stream",
     "text": [
      "Device 2696614388023593: Saved time series plot to results_fr/device_2696614388023593/predictions_over_time.png\n",
      "Filtered 19950 rows for device 2720149542779272. 85193 rows remaining.\n",
      "Device 2720149542779272: Train set size: 37343, Validation set size: 47826\n",
      "Device 2720149542779272: Saved results to results_fr/device_2720149542779272/results.json\n",
      "Device 2720149542779272: Saved scatter plot to results_fr/device_2720149542779272/predictions_vs_actual.png\n"
     ]
    },
    {
     "name": "stderr",
     "output_type": "stream",
     "text": [
      " 97%|█████████▋| 119/123 [46:17<02:18, 34.51s/it]"
     ]
    },
    {
     "name": "stdout",
     "output_type": "stream",
     "text": [
      "Device 2720149542779272: Saved time series plot to results_fr/device_2720149542779272/predictions_over_time.png\n",
      "Filtered 19894 rows for device 2805009894538456. 85249 rows remaining.\n",
      "Device 2805009894538456: Train set size: 37269, Validation set size: 47956\n",
      "Device 2805009894538456: Saved results to results_fr/device_2805009894538456/results.json\n",
      "Device 2805009894538456: Saved scatter plot to results_fr/device_2805009894538456/predictions_vs_actual.png\n"
     ]
    },
    {
     "name": "stderr",
     "output_type": "stream",
     "text": [
      " 98%|█████████▊| 120/123 [46:19<01:14, 24.82s/it]"
     ]
    },
    {
     "name": "stdout",
     "output_type": "stream",
     "text": [
      "Device 2805009894538456: Saved time series plot to results_fr/device_2805009894538456/predictions_over_time.png\n",
      "Filtered 20203 rows for device 2559962019321287. 84940 rows remaining.\n",
      "Device 2559962019321287: Train set size: 36960, Validation set size: 47956\n",
      "Device 2559962019321287: Saved results to results_fr/device_2559962019321287/results.json\n",
      "Device 2559962019321287: Saved scatter plot to results_fr/device_2559962019321287/predictions_vs_actual.png\n"
     ]
    },
    {
     "name": "stderr",
     "output_type": "stream",
     "text": [
      " 98%|█████████▊| 121/123 [46:20<00:35, 17.76s/it]"
     ]
    },
    {
     "name": "stdout",
     "output_type": "stream",
     "text": [
      "Device 2559962019321287: Saved time series plot to results_fr/device_2559962019321287/predictions_over_time.png\n",
      "Filtered 19939 rows for device 2606839440408366. 85204 rows remaining.\n",
      "Device 2606839440408366: Train set size: 37224, Validation set size: 47956\n",
      "Device 2606839440408366: Saved results to results_fr/device_2606839440408366/results.json\n",
      "Device 2606839440408366: Saved scatter plot to results_fr/device_2606839440408366/predictions_vs_actual.png\n"
     ]
    },
    {
     "name": "stderr",
     "output_type": "stream",
     "text": [
      " 99%|█████████▉| 122/123 [46:22<00:12, 12.98s/it]"
     ]
    },
    {
     "name": "stdout",
     "output_type": "stream",
     "text": [
      "Device 2606839440408366: Saved time series plot to results_fr/device_2606839440408366/predictions_over_time.png\n",
      "Filtered 20489 rows for device 2640423556868160. 84654 rows remaining.\n",
      "Device 2640423556868160: Train set size: 36943, Validation set size: 47687\n",
      "Device 2640423556868160: Saved results to results_fr/device_2640423556868160/results.json\n",
      "Device 2640423556868160: Saved scatter plot to results_fr/device_2640423556868160/predictions_vs_actual.png\n"
     ]
    },
    {
     "name": "stderr",
     "output_type": "stream",
     "text": [
      "100%|██████████| 123/123 [46:26<00:00, 22.66s/it]"
     ]
    },
    {
     "name": "stdout",
     "output_type": "stream",
     "text": [
      "Device 2640423556868160: Saved time series plot to results_fr/device_2640423556868160/predictions_over_time.png\n"
     ]
    },
    {
     "name": "stderr",
     "output_type": "stream",
     "text": [
      "\n"
     ]
    }
   ],
   "source": [
    "for device_id in tqdm(devices_with_temp):\n",
    "    X_train, y_train, X_val, y_val = get_train_val_data_for_device(device_id)\n",
    "    train_and_eval(X_train, y_train, X_val, y_val, device_id)"
   ]
  },
  {
   "cell_type": "code",
   "execution_count": 16,
   "id": "5038c8cf",
   "metadata": {},
   "outputs": [
    {
     "name": "stdout",
     "output_type": "stream",
     "text": [
      "\n",
      "Reading results from 'results_fr' to calculate average metrics...\n",
      "Processing results for 123 devices.\n",
      "\n",
      "--- Average Performance Metrics Across All Devices ---\n",
      "(Based on 123 devices with valid results files)\n",
      "\n",
      "Baseline (Mean Prediction):\n",
      "  Average RMSE: 3.3639\n",
      "  Average MAE:  2.6695\n",
      "\n",
      "XGBoost Models:\n",
      "  Average RMSE: 2.5347\n",
      "  Average MAE:  1.7434\n"
     ]
    }
   ],
   "source": [
    "# %% [markdown]\n",
    "# ### Calculate Average Performance Metrics\n",
    "\n",
    "# %%\n",
    "\n",
    "# --- Code to add at the end of your script ---\n",
    "\n",
    "results_dir = \"results_fr\" # The directory specified in save_results\n",
    "all_devices = devices_with_temp # Get the list of devices that were processed\n",
    "\n",
    "# Initialize lists to store metrics from each device\n",
    "rmse_xgb_list = []\n",
    "mae_xgb_list = []\n",
    "rmse_mean_list = []\n",
    "mae_mean_list = []\n",
    "\n",
    "print(f\"\\nReading results from '{results_dir}' to calculate average metrics...\")\n",
    "print(f\"Processing results for {len(all_devices)} devices.\")\n",
    "\n",
    "# Iterate through all devices for which models were trained\n",
    "for device_id in all_devices:\n",
    "    # Construct the path to the results JSON file for the current device\n",
    "    device_output_dir = os.path.join(results_dir, f\"device_{device_id}\")\n",
    "    json_filepath = os.path.join(device_output_dir, 'results.json')\n",
    "\n",
    "    # Check if the results file exists\n",
    "    if os.path.exists(json_filepath):\n",
    "        try:\n",
    "            # Open and load the JSON data\n",
    "            with open(json_filepath, 'r') as f:\n",
    "                results_data = json.load(f)\n",
    "\n",
    "            # Extract the performance metrics dictionary\n",
    "            metrics = results_data.get('performance_metrics', {})\n",
    "            xgb_metrics = metrics.get('xgboost', {})\n",
    "            mean_metrics = metrics.get('baseline_mean', {})\n",
    "\n",
    "            # Append metrics to the lists if they exist\n",
    "            # Check specifically for the keys to avoid errors if a file is incomplete\n",
    "            if 'rmse' in xgb_metrics:\n",
    "                rmse_xgb_list.append(xgb_metrics['rmse'])\n",
    "            else:\n",
    "                print(f\"Warning: Missing XGBoost RMSE for device {device_id}\")\n",
    "\n",
    "            if 'mae' in xgb_metrics:\n",
    "                mae_xgb_list.append(xgb_metrics['mae'])\n",
    "            else:\n",
    "                print(f\"Warning: Missing XGBoost MAE for device {device_id}\")\n",
    "\n",
    "            if 'rmse' in mean_metrics:\n",
    "                rmse_mean_list.append(mean_metrics['rmse'])\n",
    "            else:\n",
    "                 print(f\"Warning: Missing Baseline Mean RMSE for device {device_id}\")\n",
    "\n",
    "            if 'mae' in mean_metrics:\n",
    "                mae_mean_list.append(mean_metrics['mae'])\n",
    "            else:\n",
    "                 print(f\"Warning: Missing Baseline Mean MAE for device {device_id}\")\n",
    "\n",
    "\n",
    "        except json.JSONDecodeError:\n",
    "            print(f\"Warning: Could not decode JSON file for device {device_id} at {json_filepath}. Skipping.\")\n",
    "        except Exception as e:\n",
    "            print(f\"Warning: Error processing results file for device {device_id}: {e}. Skipping.\")\n",
    "    else:\n",
    "        # This case might happen if save_results failed for some reason\n",
    "        print(f\"Warning: Results file not found for device {device_id} at {json_filepath}. Skipping.\")\n",
    "\n",
    "# Calculate the averages, ensuring we don't divide by zero\n",
    "# Check if we actually collected any valid results\n",
    "num_valid_results = len(rmse_xgb_list) # Assuming all lists should have same length if valid\n",
    "\n",
    "if num_valid_results > 0:\n",
    "    # Calculate simple arithmetic average\n",
    "    avg_rmse_xgb = sum(rmse_xgb_list) / num_valid_results\n",
    "    avg_mae_xgb = sum(mae_xgb_list) / num_valid_results\n",
    "    avg_rmse_mean = sum(rmse_mean_list) / num_valid_results # Should match num_valid_results if data is consistent\n",
    "    avg_mae_mean = sum(mae_mean_list) / num_valid_results   # Should match num_valid_results if data is consistent\n",
    "\n",
    "    print(\"\\n--- Average Performance Metrics Across All Devices ---\")\n",
    "    print(f\"(Based on {num_valid_results} devices with valid results files)\")\n",
    "    print(f\"\\nBaseline (Mean Prediction):\")\n",
    "    print(f\"  Average RMSE: {avg_rmse_mean:.4f}\")\n",
    "    print(f\"  Average MAE:  {avg_mae_mean:.4f}\")\n",
    "    print(f\"\\nXGBoost Models:\")\n",
    "    print(f\"  Average RMSE: {avg_rmse_xgb:.4f}\")\n",
    "    print(f\"  Average MAE:  {avg_mae_xgb:.4f}\")\n",
    "\n",
    "else:\n",
    "    print(\"\\nCould not calculate average metrics: No valid results files were found or processed.\")\n",
    "\n",
    "# --- End of code to add ---"
   ]
  }
 ],
 "metadata": {
  "kernelspec": {
   "display_name": ".venv",
   "language": "python",
   "name": "python3"
  },
  "language_info": {
   "codemirror_mode": {
    "name": "ipython",
    "version": 3
   },
   "file_extension": ".py",
   "mimetype": "text/x-python",
   "name": "python",
   "nbconvert_exporter": "python",
   "pygments_lexer": "ipython3",
   "version": "3.13.0"
  }
 },
 "nbformat": 4,
 "nbformat_minor": 5
}
